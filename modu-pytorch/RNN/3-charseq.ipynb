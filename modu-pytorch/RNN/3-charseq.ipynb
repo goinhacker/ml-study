{
 "cells": [
  {
   "cell_type": "markdown",
   "source": [
    "hihello 예제는 입력이 hihello일때만 동작한다.</br>\n",
    "여기서 다루는 예제는 어떤 문자들이 들어와도 동작하는 일반화된 모델을 만든다.</br>"
   ],
   "metadata": {
    "collapsed": false,
    "pycharm": {
     "name": "#%% md\n"
    }
   }
  },
  {
   "cell_type": "code",
   "execution_count": 2,
   "metadata": {
    "collapsed": true,
    "pycharm": {
     "is_executing": false
    }
   },
   "outputs": [
    {
     "name": "stdout",
     "text": [
      "0 loss:  2.388148546218872 prediction:  [[8 7 8 5 7 7 0 5 7 6 7 7 8 7 7]] true Y:  [[0, 8, 1, 4, 3, 7, 1, 2, 9, 5, 6, 1, 4, 3, 7]] prediction str:  fufnuuinutuufuu\n",
      "1 loss:  2.0313820838928223 prediction:  [[8 1 1 1 8 7 1 0 8 7 1 1 1 7 7]] true Y:  [[0, 8, 1, 4, 3, 7, 1, 2, 9, 5, 6, 1, 4, 3, 7]] prediction str:  f   fu ifu   uu\n",
      "2 loss:  1.8183174133300781 prediction:  [[4 1 1 4 8 7 1 2 4 5 1 1 4 8 7]] true Y:  [[0, 8, 1, 4, 3, 7, 1, 2, 9, 5, 6, 1, 4, 3, 7]] prediction str:  y  yfu wyn  yfu\n",
      "3 loss:  1.6600782871246338 prediction:  [[4 1 1 4 3 7 1 6 4 5 1 1 4 3 7]] true Y:  [[0, 8, 1, 4, 3, 7, 1, 2, 9, 5, 6, 1, 4, 3, 7]] prediction str:  y  you tyn  you\n",
      "4 loss:  1.5549092292785645 prediction:  [[4 3 1 4 3 7 1 6 3 5 6 1 4 3 7]] true Y:  [[0, 8, 1, 4, 3, 7, 1, 2, 9, 5, 6, 1, 4, 3, 7]] prediction str:  yo you tont you\n",
      "5 loss:  1.499359130859375 prediction:  [[4 3 1 4 3 7 1 4 9 5 6 4 4 3 7]] true Y:  [[0, 8, 1, 4, 3, 7, 1, 2, 9, 5, 6, 1, 4, 3, 7]] prediction str:  yo you yantyyou\n",
      "6 loss:  1.4495062828063965 prediction:  [[4 8 1 4 3 7 1 4 9 5 6 4 4 3 7]] true Y:  [[0, 8, 1, 4, 3, 7, 1, 2, 9, 5, 6, 1, 4, 3, 7]] prediction str:  yf you yantyyou\n",
      "7 loss:  1.3917059898376465 prediction:  [[4 8 1 4 3 7 1 2 9 5 6 4 4 3 7]] true Y:  [[0, 8, 1, 4, 3, 7, 1, 2, 9, 5, 6, 1, 4, 3, 7]] prediction str:  yf you wantyyou\n",
      "8 loss:  1.3331068754196167 prediction:  [[4 8 1 4 3 7 1 2 9 5 6 4 4 3 7]] true Y:  [[0, 8, 1, 4, 3, 7, 1, 2, 9, 5, 6, 1, 4, 3, 7]] prediction str:  yf you wantyyou\n",
      "9 loss:  1.2857524156570435 prediction:  [[9 8 1 4 3 7 1 2 9 5 6 1 4 3 7]] true Y:  [[0, 8, 1, 4, 3, 7, 1, 2, 9, 5, 6, 1, 4, 3, 7]] prediction str:  af you want you\n",
      "10 loss:  1.229124665260315 prediction:  [[0 8 1 4 3 7 1 2 9 5 6 1 4 3 7]] true Y:  [[0, 8, 1, 4, 3, 7, 1, 2, 9, 5, 6, 1, 4, 3, 7]] prediction str:  if you want you\n",
      "11 loss:  1.1756441593170166 prediction:  [[0 8 1 4 3 7 1 2 9 5 6 1 4 3 7]] true Y:  [[0, 8, 1, 4, 3, 7, 1, 2, 9, 5, 6, 1, 4, 3, 7]] prediction str:  if you want you\n",
      "12 loss:  1.125670313835144 prediction:  [[0 8 1 4 3 7 1 2 9 5 6 1 4 3 7]] true Y:  [[0, 8, 1, 4, 3, 7, 1, 2, 9, 5, 6, 1, 4, 3, 7]] prediction str:  if you want you\n",
      "13 loss:  1.0868090391159058 prediction:  [[0 8 1 4 3 7 1 2 9 5 6 1 4 3 7]] true Y:  [[0, 8, 1, 4, 3, 7, 1, 2, 9, 5, 6, 1, 4, 3, 7]] prediction str:  if you want you\n",
      "14 loss:  1.0584701299667358 prediction:  [[0 8 1 1 3 7 1 2 9 5 6 1 4 3 7]] true Y:  [[0, 8, 1, 4, 3, 7, 1, 2, 9, 5, 6, 1, 4, 3, 7]] prediction str:  if  ou want you\n",
      "15 loss:  1.0431197881698608 prediction:  [[0 8 1 1 3 7 1 2 9 5 6 1 4 3 7]] true Y:  [[0, 8, 1, 4, 3, 7, 1, 2, 9, 5, 6, 1, 4, 3, 7]] prediction str:  if  ou want you\n",
      "16 loss:  1.026247501373291 prediction:  [[0 8 1 1 3 7 1 2 9 5 6 1 4 3 7]] true Y:  [[0, 8, 1, 4, 3, 7, 1, 2, 9, 5, 6, 1, 4, 3, 7]] prediction str:  if  ou want you\n",
      "17 loss:  1.0043045282363892 prediction:  [[0 8 1 1 3 7 1 2 9 5 6 1 4 3 7]] true Y:  [[0, 8, 1, 4, 3, 7, 1, 2, 9, 5, 6, 1, 4, 3, 7]] prediction str:  if  ou want you\n",
      "18 loss:  0.9796594381332397 prediction:  [[0 8 1 4 3 7 1 2 9 5 6 1 4 3 7]] true Y:  [[0, 8, 1, 4, 3, 7, 1, 2, 9, 5, 6, 1, 4, 3, 7]] prediction str:  if you want you\n",
      "19 loss:  0.9606980681419373 prediction:  [[0 8 1 4 3 7 1 2 9 5 6 1 4 3 7]] true Y:  [[0, 8, 1, 4, 3, 7, 1, 2, 9, 5, 6, 1, 4, 3, 7]] prediction str:  if you want you\n",
      "20 loss:  0.9467286467552185 prediction:  [[0 8 1 4 3 7 1 2 9 5 6 1 4 3 7]] true Y:  [[0, 8, 1, 4, 3, 7, 1, 2, 9, 5, 6, 1, 4, 3, 7]] prediction str:  if you want you\n",
      "21 loss:  0.9327225089073181 prediction:  [[0 8 1 4 3 7 1 2 9 5 6 1 4 3 7]] true Y:  [[0, 8, 1, 4, 3, 7, 1, 2, 9, 5, 6, 1, 4, 3, 7]] prediction str:  if you want you\n",
      "22 loss:  0.922938346862793 prediction:  [[0 8 1 4 3 7 1 2 9 5 6 1 4 3 7]] true Y:  [[0, 8, 1, 4, 3, 7, 1, 2, 9, 5, 6, 1, 4, 3, 7]] prediction str:  if you want you\n",
      "23 loss:  0.9151524901390076 prediction:  [[0 8 1 4 3 7 1 2 9 5 6 1 4 3 7]] true Y:  [[0, 8, 1, 4, 3, 7, 1, 2, 9, 5, 6, 1, 4, 3, 7]] prediction str:  if you want you\n",
      "24 loss:  0.9064697623252869 prediction:  [[0 8 1 4 3 7 1 2 9 5 6 1 4 3 7]] true Y:  [[0, 8, 1, 4, 3, 7, 1, 2, 9, 5, 6, 1, 4, 3, 7]] prediction str:  if you want you\n",
      "25 loss:  0.8987590670585632 prediction:  [[0 8 1 4 3 7 1 2 9 5 6 1 4 3 7]] true Y:  [[0, 8, 1, 4, 3, 7, 1, 2, 9, 5, 6, 1, 4, 3, 7]] prediction str:  if you want you\n",
      "26 loss:  0.8900283575057983 prediction:  [[0 8 1 4 3 7 1 2 9 5 6 1 4 3 7]] true Y:  [[0, 8, 1, 4, 3, 7, 1, 2, 9, 5, 6, 1, 4, 3, 7]] prediction str:  if you want you\n",
      "27 loss:  0.880503237247467 prediction:  [[0 8 1 4 3 7 1 2 9 5 6 1 4 3 7]] true Y:  [[0, 8, 1, 4, 3, 7, 1, 2, 9, 5, 6, 1, 4, 3, 7]] prediction str:  if you want you\n",
      "28 loss:  0.8735769391059875 prediction:  [[0 8 1 4 3 7 1 2 9 5 6 1 4 3 7]] true Y:  [[0, 8, 1, 4, 3, 7, 1, 2, 9, 5, 6, 1, 4, 3, 7]] prediction str:  if you want you\n",
      "29 loss:  0.8673192858695984 prediction:  [[0 8 1 4 3 7 1 2 9 5 6 1 4 3 7]] true Y:  [[0, 8, 1, 4, 3, 7, 1, 2, 9, 5, 6, 1, 4, 3, 7]] prediction str:  if you want you\n",
      "30 loss:  0.8624953031539917 prediction:  [[0 8 1 4 3 7 1 2 9 5 6 1 4 3 7]] true Y:  [[0, 8, 1, 4, 3, 7, 1, 2, 9, 5, 6, 1, 4, 3, 7]] prediction str:  if you want you\n",
      "31 loss:  0.8598645329475403 prediction:  [[0 8 1 4 3 7 1 2 9 5 6 1 4 3 7]] true Y:  [[0, 8, 1, 4, 3, 7, 1, 2, 9, 5, 6, 1, 4, 3, 7]] prediction str:  if you want you\n",
      "32 loss:  0.8554332256317139 prediction:  [[0 8 1 4 3 7 1 2 9 5 6 1 4 3 7]] true Y:  [[0, 8, 1, 4, 3, 7, 1, 2, 9, 5, 6, 1, 4, 3, 7]] prediction str:  if you want you\n",
      "33 loss:  0.8529775142669678 prediction:  [[0 8 1 4 3 7 1 2 9 5 6 1 4 3 7]] true Y:  [[0, 8, 1, 4, 3, 7, 1, 2, 9, 5, 6, 1, 4, 3, 7]] prediction str:  if you want you\n",
      "34 loss:  0.8487294316291809 prediction:  [[0 8 1 4 3 7 1 2 9 5 6 1 4 3 7]] true Y:  [[0, 8, 1, 4, 3, 7, 1, 2, 9, 5, 6, 1, 4, 3, 7]] prediction str:  if you want you\n",
      "35 loss:  0.8447911143302917 prediction:  [[0 8 1 4 3 7 1 2 9 5 6 1 4 3 7]] true Y:  [[0, 8, 1, 4, 3, 7, 1, 2, 9, 5, 6, 1, 4, 3, 7]] prediction str:  if you want you\n",
      "36 loss:  0.8429633975028992 prediction:  [[0 8 1 4 3 7 1 2 9 5 6 1 4 3 7]] true Y:  [[0, 8, 1, 4, 3, 7, 1, 2, 9, 5, 6, 1, 4, 3, 7]] prediction str:  if you want you\n",
      "37 loss:  0.8402593731880188 prediction:  [[0 8 1 4 3 7 1 2 9 5 6 1 4 3 7]] true Y:  [[0, 8, 1, 4, 3, 7, 1, 2, 9, 5, 6, 1, 4, 3, 7]] prediction str:  if you want you\n",
      "38 loss:  0.8387104868888855 prediction:  [[0 8 1 4 3 7 1 2 9 5 6 1 4 3 7]] true Y:  [[0, 8, 1, 4, 3, 7, 1, 2, 9, 5, 6, 1, 4, 3, 7]] prediction str:  if you want you\n",
      "39 loss:  0.8374090194702148 prediction:  [[0 8 1 4 3 7 1 2 9 5 6 1 4 3 7]] true Y:  [[0, 8, 1, 4, 3, 7, 1, 2, 9, 5, 6, 1, 4, 3, 7]] prediction str:  if you want you\n",
      "40 loss:  0.8354455232620239 prediction:  [[0 8 1 4 3 7 1 2 9 5 6 1 4 3 7]] true Y:  [[0, 8, 1, 4, 3, 7, 1, 2, 9, 5, 6, 1, 4, 3, 7]] prediction str:  if you want you\n",
      "41 loss:  0.8340930342674255 prediction:  [[0 8 1 4 3 7 1 2 9 5 6 1 4 3 7]] true Y:  [[0, 8, 1, 4, 3, 7, 1, 2, 9, 5, 6, 1, 4, 3, 7]] prediction str:  if you want you\n",
      "42 loss:  0.8328083157539368 prediction:  [[0 8 1 4 3 7 1 2 9 5 6 1 4 3 7]] true Y:  [[0, 8, 1, 4, 3, 7, 1, 2, 9, 5, 6, 1, 4, 3, 7]] prediction str:  if you want you\n",
      "43 loss:  0.8311355113983154 prediction:  [[0 8 1 4 3 7 1 2 9 5 6 1 4 3 7]] true Y:  [[0, 8, 1, 4, 3, 7, 1, 2, 9, 5, 6, 1, 4, 3, 7]] prediction str:  if you want you\n",
      "44 loss:  0.8302393555641174 prediction:  [[0 8 1 4 3 7 1 2 9 5 6 1 4 3 7]] true Y:  [[0, 8, 1, 4, 3, 7, 1, 2, 9, 5, 6, 1, 4, 3, 7]] prediction str:  if you want you\n",
      "45 loss:  0.8291993737220764 prediction:  [[0 8 1 4 3 7 1 2 9 5 6 1 4 3 7]] true Y:  [[0, 8, 1, 4, 3, 7, 1, 2, 9, 5, 6, 1, 4, 3, 7]] prediction str:  if you want you\n",
      "46 loss:  0.8282341361045837 prediction:  [[0 8 1 4 3 7 1 2 9 5 6 1 4 3 7]] true Y:  [[0, 8, 1, 4, 3, 7, 1, 2, 9, 5, 6, 1, 4, 3, 7]] prediction str:  if you want you\n",
      "47 loss:  0.8277959227561951 prediction:  [[0 8 1 4 3 7 1 2 9 5 6 1 4 3 7]] true Y:  [[0, 8, 1, 4, 3, 7, 1, 2, 9, 5, 6, 1, 4, 3, 7]] prediction str:  if you want you\n",
      "48 loss:  0.8268318176269531 prediction:  [[0 8 1 4 3 7 1 2 9 5 6 1 4 3 7]] true Y:  [[0, 8, 1, 4, 3, 7, 1, 2, 9, 5, 6, 1, 4, 3, 7]] prediction str:  if you want you\n",
      "49 loss:  0.8262585401535034 prediction:  [[0 8 1 4 3 7 1 2 9 5 6 1 4 3 7]] true Y:  [[0, 8, 1, 4, 3, 7, 1, 2, 9, 5, 6, 1, 4, 3, 7]] prediction str:  if you want you\n"
     ],
     "output_type": "stream"
    }
   ],
   "source": [
    "import torch\n",
    "import torch.optim as optim\n",
    "import numpy as np\n",
    "\n",
    "torch.manual_seed(0)\n",
    "\n",
    "sample = \" if you want you\"\n",
    "\n",
    "# 중복된 문자를 제거하고 unique한 문자들의 리스트를 만든다.\n",
    "char_set = list(set(sample))\n",
    "# 인덱스와 문자를 매핑한 dictionary를 만든다.\n",
    "char_dic = {c: i for i, c in enumerate(char_set)}\n",
    "\n",
    "# unique한 문자의 개수를 input_size로 한다.\n",
    "input_size = len(char_set)\n",
    "# 다른 값으로 설정해도 되지만 여기서는 input_size와 동일하게 설정한다.\n",
    "hidden_size = len(char_dic)\n",
    "learning_rate = 0.1\n",
    "\n",
    "# 입력 데이터의 문자를 인덱스로 변환한다.\n",
    "sample_idx = [char_dic[c] for c in sample]\n",
    "# 문자열의 맨마지막 문자만 제외한다.\n",
    "x_data = [sample_idx[:-1]]\n",
    "# np.eye 함수는 identity 행렬을 만들어준다.\n",
    "# identity 행렬을 활용해서 one-hot 인코딩을 한다.\n",
    "x_one_hot = [np.eye(input_size)[x] for x in x_data]\n",
    "# 문자열의 맨처음 문자만 제외한다.\n",
    "y_data = [sample_idx[1:]]\n",
    "\n",
    "X = torch.FloatTensor(x_one_hot)\n",
    "Y = torch.LongTensor(y_data)\n",
    "\n",
    "# declare RNN\n",
    "rnn = torch.nn.RNN(input_size, hidden_size, batch_first=True)\n",
    "\n",
    "criterion = torch.nn.CrossEntropyLoss()\n",
    "optimizer = optim.Adam(rnn.parameters(), learning_rate)\n",
    "\n",
    "# start training\n",
    "for i in range(50):\n",
    "    optimizer.zero_grad()       # gradient를 초기화한다.\n",
    "    # _status는 hidden state인데, 여기서는 한번의 입력으로 끝내기 때문에 사용되지 않는다.\n",
    "    outputs, _status = rnn(X)\n",
    "    # view(-1)은 batch demension을 맨앞으로 오게 한다.\n",
    "    loss = criterion(outputs.view(-1, input_size), Y.view(-1))\n",
    "    loss.backward()     # back propagation을 진행한다. \n",
    "    optimizer.step()    # 최적화를 통해서 파라미터를 업데이트한다.\n",
    "\n",
    "    # argmax 함수는 값이 가장 큰 인덱스만 가져온다. \n",
    "    # 3번째 차원의 값들중 가장 큰 값의 인덱스를 가져온다. \n",
    "    result = outputs.data.numpy().argmax(axis=2)\n",
    "    # result의 인덱스가 어떤 문자에 해당하는지 가져와서 하나의 문자열로 합친다.\n",
    "    # squeeze 함수는 shape에서 demension이 1인 축을 없애준다.\n",
    "    result_str = ''.join([char_set[c] for c in np.squeeze(result)])\n",
    "    print(i, \"loss: \", loss.item(), \"prediction: \", result, \"true Y: \", y_data, \"prediction str: \", result_str)\n"
   ]
  }
 ],
 "metadata": {
  "kernelspec": {
   "display_name": "Python 3",
   "language": "python",
   "name": "python3"
  },
  "language_info": {
   "codemirror_mode": {
    "name": "ipython",
    "version": 2
   },
   "file_extension": ".py",
   "mimetype": "text/x-python",
   "name": "python",
   "nbconvert_exporter": "python",
   "pygments_lexer": "ipython2",
   "version": "2.7.6"
  },
  "pycharm": {
   "stem_cell": {
    "cell_type": "raw",
    "source": [],
    "metadata": {
     "collapsed": false
    }
   }
  }
 },
 "nbformat": 4,
 "nbformat_minor": 0
}