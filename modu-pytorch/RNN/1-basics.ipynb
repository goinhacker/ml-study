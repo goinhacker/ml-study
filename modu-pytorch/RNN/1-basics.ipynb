{
 "cells": [
  {
   "cell_type": "code",
   "execution_count": 10,
   "metadata": {
    "collapsed": true,
    "pycharm": {
     "is_executing": false,
     "name": "#%%\n"
    }
   },
   "outputs": [
    {
     "name": "stdout",
     "text": [
      "tensor([[[-0.7497, -0.6135],\n",
      "         [-0.5282, -0.2473],\n",
      "         [-0.9136, -0.4269],\n",
      "         [-0.9136, -0.4269],\n",
      "         [-0.9028,  0.1180]],\n",
      "\n",
      "        [[-0.5753, -0.0070],\n",
      "         [-0.9052,  0.2597],\n",
      "         [-0.9173, -0.1989],\n",
      "         [-0.9173, -0.1989],\n",
      "         [-0.8996, -0.2725]],\n",
      "\n",
      "        [[-0.9077, -0.3205],\n",
      "         [-0.8944, -0.2902],\n",
      "         [-0.5134, -0.0288],\n",
      "         [-0.5134, -0.0288],\n",
      "         [-0.9127, -0.2222]]], grad_fn=<StackBackward>)\n",
      "torch.Size([3, 5, 2])\n"
     ],
     "output_type": "stream"
    }
   ],
   "source": [
    "import torch\n",
    "import numpy as np\n",
    "\n",
    "# 결과를 재현 가능하게하는 random seed 설정 \n",
    "torch.manual_seed(0)\n",
    "\n",
    "# 테스트를 위한 입력 데이터를 만든다.\n",
    "h = [1, 0, 0, 0]\n",
    "e = [0, 1, 0, 0]\n",
    "l = [0, 0, 1, 0]\n",
    "o = [0, 0, 0, 1]\n",
    "\n",
    "# 입력은 세개의 차원을 가진 텐서로 정의한다.\n",
    "input_data_np = np.array([\n",
    "    [h, e, l, l, o], \n",
    "    [e, o, l, l, l], \n",
    "    [l, l, e, e, l]\n",
    "], dtype=np.float32)\n",
    "\n",
    "# np.array를 torch 텐서로 변경한다.\n",
    "input_data = torch.from_numpy(input_data_np)\n",
    "\n",
    "# one hot encoding을 했을때 입력 데이터의 차원이 4다.\n",
    "input_size = 4  \n",
    "# 출력으로 몇개의 차원을 가진 데이터를 반환할지, 만약 감정이 출력이면 감정의 개수가 hidden_size가 된다.\n",
    "# Hidden State의 개수 == 출력 차원\n",
    "hidden_size = 2\n",
    "\n",
    "# Sequence Length: hello는 입력 문자가 5개 이므로 가 5이다.\n",
    "# Batch Size: 몇개입력을 묶어서 한번에 처리할지 설정한다.\n",
    "# 파이토치는 알아서 Sequence Length와 Batch Size를 인식해서 별도로 입력하지 않는다.\n",
    "\n",
    "rnn = torch.nn.RNN(input_size, hidden_size)\n",
    "# RNN에 입력을 넣는다.\n",
    "outputs, _status = rnn(input_data)\n",
    "\n",
    "print(outputs)\n",
    "print(outputs.size())\n",
    "\n",
    "\n",
    "\n"
   ]
  }
 ],
 "metadata": {
  "kernelspec": {
   "display_name": "Python 3",
   "language": "python",
   "name": "python3"
  },
  "language_info": {
   "codemirror_mode": {
    "name": "ipython",
    "version": 2
   },
   "file_extension": ".py",
   "mimetype": "text/x-python",
   "name": "python",
   "nbconvert_exporter": "python",
   "pygments_lexer": "ipython2",
   "version": "2.7.6"
  },
  "pycharm": {
   "stem_cell": {
    "cell_type": "raw",
    "source": [],
    "metadata": {
     "collapsed": false
    }
   }
  }
 },
 "nbformat": 4,
 "nbformat_minor": 0
}