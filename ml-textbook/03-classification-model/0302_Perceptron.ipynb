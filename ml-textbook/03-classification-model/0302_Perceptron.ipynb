{
 "cells": [
  {
   "cell_type": "code",
   "execution_count": 1,
   "metadata": {
    "collapsed": true,
    "pycharm": {
     "is_executing": false
    }
   },
   "outputs": [
    {
     "name": "stdout",
     "text": [
      "클래스 레이블: [0 1 2]\n"
     ],
     "output_type": "stream"
    }
   ],
   "source": [
    "from sklearn import datasets\n",
    "import numpy as np\n",
    "\n",
    "# 붓꽃 데이터 로드\n",
    "iris = datasets.load_iris()\n",
    "\n",
    "# 꽃잎길이, 꽃잎너비 특성을 x에 할당\n",
    "x = iris.data[:, [2, 3]]\n",
    "# 꽃 품종에 해당하는 클래스 레이블을 y에 할당\n",
    "y = iris.target\n",
    "\n",
    "# 0: Iris-setosa, 1: Iris-versicolor, 2: Iris-virginica\n",
    "print('클래스 레이블:', np.unique(y))"
   ]
  },
  {
   "cell_type": "code",
   "execution_count": 2,
   "outputs": [
    {
     "name": "stdout",
     "text": [
      "y의 레이블 카운트: [50 50 50]\n",
      "y_train의 레이블 카운트: [35 35 35]\n",
      "y_test의 레이블 카운트: [15 15 15]\n"
     ],
     "output_type": "stream"
    }
   ],
   "source": [
    "from sklearn.model_selection import train_test_split\n",
    "\n",
    "# train_test_split을 사용해서 x, y 배열을 랜덤하게 나눈다.\n",
    "# test_size=0.3 => 30%를 테스트 셋으로 사용\n",
    "# random_state=1 => 고정된 랜덤 시드로 실행 결과를 재현할 수 있게함\n",
    "# stratify=y => 훈련 세트와 테스트 세트의 클래스 레이블 비율을 입력 데이터셋과 동일하게 만드는 계층화 기능을 사용\n",
    "x_train, x_test, y_train, y_test = train_test_split(x, y, test_size=0.3, random_state=1, stratify=y)\n",
    "\n",
    "print('y의 레이블 카운트:', np.bincount(y))\n",
    "print('y_train의 레이블 카운트:', np.bincount(y_train))\n",
    "print('y_test의 레이블 카운트:', np.bincount(y_test))"
   ],
   "metadata": {
    "collapsed": false,
    "pycharm": {
     "name": "#%%\n",
     "is_executing": false
    }
   }
  },
  {
   "cell_type": "code",
   "execution_count": 3,
   "outputs": [],
   "source": [
    "from sklearn.preprocessing import StandardScaler\n",
    "\n",
    "# 특성 표준화(스케일 조정)을 위해서 StandardScaler 클래스를 사용\n",
    "sc = StandardScaler()\n",
    "# fit 함수는 각 특성의 차원마다 평균과 표준편차를 계산한다.\n",
    "sc.fit(x_train)\n",
    "# transform 함수는 평균과 표준편차를 사용해서 특성을 표준화한다.\n",
    "x_train_std = sc.transform(x_train)\n",
    "# 테스트 세트도 같은 비율로 이동(표준화)되도록 같은 평균과 표준편차를 사용한다.\n",
    "x_test_std = sc.transform(x_test)"
   ],
   "metadata": {
    "collapsed": false,
    "pycharm": {
     "name": "#%%\n",
     "is_executing": false
    }
   }
  },
  {
   "cell_type": "code",
   "execution_count": 4,
   "outputs": [
    {
     "name": "stdout",
     "text": [
      "잘못 분류된 샘플 개수: 1\n"
     ],
     "output_type": "stream"
    }
   ],
   "source": [
    "from sklearn.linear_model import Perceptron\n",
    "\n",
    "# 퍼셉트론 모델 훈련\n",
    "# 사이킷런 알고리즘은 대부분 기본적으로 OvR(One-versus-Rest) 방식을 사용하여 다중 분류(multiclass classification)을 지원 \n",
    "\n",
    "# max_iter => 훈련 세트를 반복할 에포크 횟수\n",
    "# eta0 => 학습률(learning_rate)\n",
    "# tol => ???\n",
    "# random_state => 에포크마다 훈련 세트를 섞은 결과가 나중에 그대로 재현될 수 있도록 1로 설정\n",
    "ppn = Perceptron(max_iter=40, eta0=0.1, tol=1e-3, random_state=1)\n",
    "ppn.fit(x_train_std, y_train)\n",
    "\n",
    "# predict 함수를 사용해서 예측을 만든다.\n",
    "y_pred = ppn.predict(x_test_std)\n",
    "\n",
    "# y_test => 진짜 클래스 레이블, y_pred => 앞에서 예측한 클래스 레이블 \n",
    "print('잘못 분류된 샘플 개수: %d' % (y_test != y_pred).sum())\n",
    "\n",
    "# 45개 샘플에서 1개를 오분류 했으므로 오차는 2.2%"
   ],
   "metadata": {
    "collapsed": false,
    "pycharm": {
     "name": "#%%\n",
     "is_executing": false
    }
   }
  },
  {
   "cell_type": "code",
   "execution_count": 5,
   "outputs": [
    {
     "name": "stdout",
     "text": [
      "정확도: 0.98\n"
     ],
     "output_type": "stream"
    }
   ],
   "source": [
    "from sklearn.metrics import accuracy_score\n",
    "\n",
    "# 분류 정확도는 accuracy_score 함수를 사용해서 구할 수 있다.\n",
    "print('정확도: %.2f' % accuracy_score(y_test, y_pred))"
   ],
   "metadata": {
    "collapsed": false,
    "pycharm": {
     "name": "#%%\n",
     "is_executing": false
    }
   }
  },
  {
   "cell_type": "code",
   "execution_count": 6,
   "outputs": [
    {
     "name": "stdout",
     "text": [
      "정확도: 0.98\n"
     ],
     "output_type": "stream"
    }
   ],
   "source": [
    "# 다음과 같이 predict와 accuracy_score를 한번에 해줄 수도 있다.\n",
    "print('정확도: %.2f' % ppn.score(x_test_std, y_test))"
   ],
   "metadata": {
    "collapsed": false,
    "pycharm": {
     "name": "#%%\n",
     "is_executing": false
    }
   }
  },
  {
   "cell_type": "code",
   "execution_count": 10,
   "outputs": [],
   "source": [
    "from matplotlib.colors import ListedColormap\n",
    "import matplotlib.pyplot as plt\n",
    "\n",
    "# 결정 경계를 그리는 함수\n",
    "def plot_decision_regions(x, y, classifier, test_idx=None, resolution=0.02):\n",
    "    # 마커와 컬러맵 설정\n",
    "    markers = ('s', 'x', 'o', '^', 'v')\n",
    "    colors = ('red', 'blue', 'lightgreen', 'gray', 'cyan')\n",
    "    \n",
    "    # 분류할 클래스 개수를 구한다.\n",
    "    class_count = len(np.unique(y)) # 3개\n",
    "    # ['red', 'blue', 'lightgreen'] 세개로 컬러맵 생성\n",
    "    color_map = ListedColormap(colors[:class_count])\n",
    "\n",
    "    x_min = x[:, 0].min() - 1\n",
    "    x_max = x[:, 0].max() + 1\n",
    "    y_min = x[:, 1].min() - 1\n",
    "    y_max = x[:, 1].max() + 1\n",
    "    \n",
    "    # meshgrid 함수는 축에 해당하는 1차원 배열을 받아서 벡터 공간의 모든 좌표를 담은 행렬을 반환한다.\n",
    "    # 예를들어 x1, x2 = np.meshgrid([0,1],[2,3])이면, (0,2),(1,2),(0,3),(1,3) 네개 점에 대한 \n",
    "    # x축 값 x1 = [[0,1][0,1]], y축 값 y1 = [[2,2][3,3]]를 반환\n",
    "    xx, yy = np.meshgrid(\n",
    "        # arange 함수는 min부터 max까지 resolution만큼씩 커지는 모든 값을 배열로 반환한다.\n",
    "        np.arange(x_min, x_max, resolution),\n",
    "        np.arange(y_min, y_max, resolution)\n",
    "    )\n",
    "    \n",
    "    # ravel 함수는 입력된 배열을 1차원으로 펼친다.\n",
    "    # T는 행렬을 전치해서 두 개의 열이 되도록 바꾼다. 이 두 열이 xy 평면의 좌표값이 된다. \n",
    "    z = classifier.predict(np.array([xx.ravel(), yy.ravel()]).T)\n",
    "    # reshape 함수는 행렬의 크기를 입력받은 shape과 동일하게 바꿔준다.\n",
    "    z = z.reshape(xx.shape)\n",
    "    \n",
    "    # contourf 함수로 등고선 그래프를 그린다.\n",
    "    plt.contourf(\n",
    "        xx, yy, \n",
    "        z, \n",
    "        alpha=0.3,          # 산점도의 점 색깔과 구분되어지게 색상을 투명도 조정함 \n",
    "        cmap=color_map      # 등고선으로 그린 경계 내부를 색칠한다.\n",
    "    )\n",
    "    plt.xlim(xx.min(), xx.max())\n",
    "    plt.ylim(yy.min(), yy.max())\n",
    "    \n",
    "    for idx, c1 in enumerate(np.unique(y)):\n",
    "        # scatter 함수로 산점도를 그린다. 루프를 돌아서 클래스별로 다른 색과 모양으로 그린다.\n",
    "        plt.scatter(\n",
    "            x=x[y == c1, 0], \n",
    "            y=x[y == c1, 1],\n",
    "            alpha=0.8,              # 투명도, 클수록 진하다. 0.0으로 하면 안보임\n",
    "            c=colors[idx],          # 마커의 색상을 결정\n",
    "            marker=markers[idx],    # 마커의 모양을 결정\n",
    "            label=c1,               # 해당 모양과 색상이 의미하는 붓꽃 이름\n",
    "            edgecolor='black'\n",
    "        )\n",
    "        \n",
    "    # 테스트 샘플을 부각하기 위해서 동그라미를 한번 더 씌운다.\n",
    "    if test_idx:\n",
    "        x_test, y_test = x[test_idx, :], y[test_idx]\n",
    "        \n",
    "        plt.scatter(\n",
    "            x_test[:, 0], x_test[:, 1], \n",
    "            c='',              # 투명하게 설정 \n",
    "            edgecolor='black', # 테두리를 검은색으로 설정\n",
    "            alpha=1.0,\n",
    "            linewidth=1, marker='o',\n",
    "            s=100,             # 마커의 크기를 설정\n",
    "            label='test_set'\n",
    "        )"
   ],
   "metadata": {
    "collapsed": false,
    "pycharm": {
     "name": "#%%\n",
     "is_executing": false
    }
   }
  },
  {
   "cell_type": "code",
   "execution_count": 11,
   "outputs": [
    {
     "data": {
      "text/plain": "<Figure size 432x288 with 1 Axes>",
      "image/png": "[encoded data removed]"
     },
     "metadata": {
      "needs_background": "light"
     },
     "output_type": "display_data"
    }
   ],
   "source": [
    "# 퍼셉트론 모델의 결정 경계 그리기\n",
    "\n",
    "x_combined_std = np.vstack((x_train_std, x_test_std))\n",
    "y_combined = np.hstack((y_train, y_test))\n",
    "plot_decision_regions(x=x_combined_std, y=y_combined, classifier=ppn, test_idx=range(105, 150))\n",
    "\n",
    "plt.xlabel('petal length [standardized]')\n",
    "plt.ylabel('petal width [standardized]')\n",
    "plt.legend(loc='upper left')\n",
    "plt.tight_layout()\n",
    "plt.show()"
   ],
   "metadata": {
    "collapsed": false,
    "pycharm": {
     "name": "#%%\n",
     "is_executing": false
    }
   }
  },
  {
   "cell_type": "code",
   "execution_count": 9,
   "outputs": [
    {
     "name": "stdout",
     "text": [
      "[[0 1]\n",
      " [0 1]]\n",
      "[[2 2]\n",
      " [3 3]]\n",
      "[0 1 0 1]\n",
      "[2 2 3 3]\n",
      "[array([0, 1, 0, 1]), array([2, 2, 3, 3])]\n",
      "[[0 1 0 1]\n",
      " [2 2 3 3]]\n",
      "[[0 2]\n",
      " [1 2]\n",
      " [0 3]\n",
      " [1 3]]\n",
      "[[0 2 1 2]\n",
      " [0 3 1 3]]\n"
     ],
     "output_type": "stream"
    }
   ],
   "source": [
    "# 행렬 가지고 놀아보기\n",
    "\n",
    "xxx, yyy = np.meshgrid([0,1],[2,3])\n",
    "print(xxx)\n",
    "print(yyy)\n",
    "print(xxx.ravel())\n",
    "print(yyy.ravel())\n",
    "print([xxx.ravel(), yyy.ravel()])\n",
    "print(np.array([xxx.ravel(), yyy.ravel()]))\n",
    "print(np.array([xxx.ravel(), yyy.ravel()]).T)\n",
    "print(np.array([xxx.ravel(), yyy.ravel()]).T.reshape((2,4)))"
   ],
   "metadata": {
    "collapsed": false,
    "pycharm": {
     "name": "#%%\n",
     "is_executing": false
    }
   }
  }
 ],
 "metadata": {
  "kernelspec": {
   "display_name": "Python 3",
   "language": "python",
   "name": "python3"
  },
  "language_info": {
   "codemirror_mode": {
    "name": "ipython",
    "version": 2
   },
   "file_extension": ".py",
   "mimetype": "text/x-python",
   "name": "python",
   "nbconvert_exporter": "python",
   "pygments_lexer": "ipython2",
   "version": "2.7.6"
  },
  "pycharm": {
   "stem_cell": {
    "cell_type": "raw",
    "source": [],
    "metadata": {
     "collapsed": false
    }
   }
  }
 },
 "nbformat": 4,
 "nbformat_minor": 0
}