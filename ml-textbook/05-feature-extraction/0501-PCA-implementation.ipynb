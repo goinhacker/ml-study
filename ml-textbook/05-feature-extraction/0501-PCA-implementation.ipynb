{
 "cells": [
  {
   "cell_type": "markdown",
   "metadata": {
    "collapsed": true,
    "pycharm": {
     "name": "#%% md\n"
    }
   },
   "source": [
    "## 주성분 분석을 통한 비지도 차원 축소\n",
    "\n",
    "특성 선택과 특성 추출은 데이터셋의 특성 개수를 줄인다.\n",
    "특성 선택은 원본 특성을 유지한다.\n",
    "특성 추출은 새로운 특성 공간으로 데이터를 변환하거나 튜영한다.\n",
    "\n",
    "PCA는 비지도(unsupervised) 선형 변환 기법이다.\n",
    "PCA는 특성 추출과 차원 축소 용도로 많이 쓰인다.\n",
    "PCA는 고차원 데이터에서 분산이 가장 큰 방향을 찾고, 더 작은 차원의 부분 공간으로 이를 투영한다.\n",
    "투영된 부분 공간의 직교 좌표(주성분)는 분산이 최대인 방향이다.\n",
    "PCA 방향은 데이터 스케일에 매우 민감해서 특성을 표준화 해야한다.\n",
    "\n",
    "고유벡터: 어떤 선형 변환을 취했을때, 방향은 변하지 않고 크기만 변하는 벡터 \n",
    "고윳값: 선형 변환시, 고유벡터가 변한 크기\n",
    "\n",
    "다음은 PCA 알고리즘이다.\n",
    "\n",
    "1. 데이터셋을 표준화 한다.\n",
    "2. 공분산 행렬을 구성한다.\n",
    "3. 공분산 행렬의 고윳값과 고유벡터를 구한다.\n",
    "4. 고윳값을 내리차순으로 정렬하여 고유벡터 순위를 매긴다.\n",
    "5. 고윳값이 가장 큰 $k$개의 고유벡터를 선택한다. $k$는 새로운 특성 부분 공간의 차원\n",
    "6. 최상위 $k$개의 고유벡터로 투영 행렬 W를 만든다.\n",
    "7. 투영 행렬 $W$를 사용해서 $d$차원 입력 데이터셋 $X$를 새로운 $k$ 차원의 특성 부분 공간으로 반환한다."
   ]
  },
  {
   "cell_type": "code",
   "execution_count": 1,
   "outputs": [],
   "source": [
    "# Wine 데이터셋 로그 \n",
    "\n",
    "import pandas as pd\n",
    "\n",
    "df_wine = pd.read_csv('https://archive.ics.uci.edu'\n",
    "                      '/ml/machine-learning-databases/wine/wine.data', header=None)"
   ],
   "metadata": {
    "collapsed": false,
    "pycharm": {
     "name": "#%%\n",
     "is_executing": false
    }
   }
  },
  {
   "cell_type": "code",
   "execution_count": 2,
   "outputs": [],
   "source": [
    "# Wine 데이터셋을 7:3 비율로 훈련셋과 테스트셋으로 나눈다.\n",
    "\n",
    "from sklearn.model_selection import train_test_split\n",
    "\n",
    "# 인덱스 1에서 인덱스 13까지 특성을 넘파일 배열로 변환하여 x에 할당\n",
    "x = df_wine.iloc[:, 1:].values\n",
    "# 첫번째 열의 클래스 레이블을 y에 할당\n",
    "y = df_wine.iloc[:, 0].values\n",
    "# train_test_split 함수를 사용하여 x와 y를 랜덤하게 훈련셋과 테스트셋으로 분할\n",
    "x_train, x_test, y_train, y_test = train_test_split(\n",
    "    x, y, \n",
    "    test_size=0.3,      # 와인 샘플의 30%가 x_test와 y_test에 할당 \n",
    "    random_state=0, \n",
    "    stratify=y          # y로 하면 훈련셋과 테스트셋에 있는 클래스 비율이 원본 데이터셋과 동일하게 유지됨\n",
    ")"
   ],
   "metadata": {
    "collapsed": false,
    "pycharm": {
     "name": "#%%\n",
     "is_executing": false
    }
   }
  },
  {
   "cell_type": "code",
   "execution_count": 3,
   "outputs": [],
   "source": [
    "# 특성을 표준화 한다.\n",
    "\n",
    "from sklearn.preprocessing import StandardScaler\n",
    "\n",
    "sc = StandardScaler()\n",
    "x_train_std = sc.fit_transform(x_train)\n",
    "x_test_std = sc.fit_transform(x_test)"
   ],
   "metadata": {
    "collapsed": false,
    "pycharm": {
     "name": "#%%\n",
     "is_executing": false
    }
   }
  },
  {
   "cell_type": "markdown",
   "source": [
    "공분산을 구하는 식은 다음과 같다. \n",
    "\n",
    "$$\\sigma_{jk}={1 \\over n}\\sum_{i=1}^n(x_j^{(i)}-\\mu_j)(x_k^{(i)}-\\mu_k)$$"
   ],
   "metadata": {
    "collapsed": false,
    "pycharm": {
     "name": "#%% md\n"
    }
   }
  },
  {
   "cell_type": "code",
   "execution_count": 4,
   "outputs": [
    {
     "name": "stdout",
     "text": [
      "\n",
      "고윳값 \n",
      "[4.84274532 2.41602459 1.54845825 0.96120438 0.84166161 0.6620634\n",
      " 0.51828472 0.34650377 0.3131368  0.10754642 0.21357215 0.15362835\n",
      " 0.1808613 ]\n"
     ],
     "output_type": "stream"
    }
   ],
   "source": [
    "import numpy as np\n",
    "\n",
    "# 표준화된 훈련셋으로 공분산 행렬을 구한다.\n",
    "cov_mat = np.cov(x_train_std.T)\n",
    "# 공분산 행렬에 대한 고윳값과 고유 벡터를 구한다.\n",
    "eigen_vals, eigen_vecs = np.linalg.eig(cov_mat) \n",
    "\n",
    "print('\\n고윳값 \\n%s' % eigen_vals)"
   ],
   "metadata": {
    "collapsed": false,
    "pycharm": {
     "name": "#%%\n",
     "is_executing": false
    }
   }
  },
  {
   "cell_type": "code",
   "execution_count": 5,
   "outputs": [
    {
     "data": {
      "text/plain": "<Figure size 432x288 with 1 Axes>",
      "image/png": "[encoded data removed]"
     },
     "metadata": {
      "needs_background": "light"
     },
     "output_type": "display_data"
    }
   ],
   "source": [
    "# 고윳값의 설명된 분산 비율을 그래프로 그려보기\n",
    "\n",
    "# 전체 고윳값의 합\n",
    "tot = sum(eigen_vals)\n",
    "# 전체 고윳값의 합에서 고윳값의 비율을 구한다.\n",
    "var_exp = [(i / tot) for i in sorted(eigen_vals, reverse=True)]\n",
    "# np.cumsum 함수는 누적 합을 계산한다.\n",
    "cum_var_exp = np.cumsum(var_exp)\n",
    "\n",
    "import matplotlib.pyplot as plt\n",
    "\n",
    "plt.bar(range(1,14), var_exp, alpha=0.5, align='center', label='individual explained variance')\n",
    "plt.step(range(1,14), cum_var_exp, where='mid', label='cumulative explained variance')\n",
    "plt.ylabel('Explained variance ratio')\n",
    "plt.xlabel('Principal component index')\n",
    "plt.legend(loc='best')\n",
    "plt.tight_layout()\n",
    "plt.show()"
   ],
   "metadata": {
    "collapsed": false,
    "pycharm": {
     "name": "#%%\n",
     "is_executing": false
    }
   }
  },
  {
   "cell_type": "code",
   "execution_count": 8,
   "outputs": [
    {
     "name": "stdout",
     "text": [
      "투영 행렬 W:\n",
      " [[-0.13724218  0.50303478]\n",
      " [ 0.24724326  0.16487119]\n",
      " [-0.02545159  0.24456476]\n",
      " [ 0.20694508 -0.11352904]\n",
      " [-0.15436582  0.28974518]\n",
      " [-0.39376952  0.05080104]\n",
      " [-0.41735106 -0.02287338]\n",
      " [ 0.30572896  0.09048885]\n",
      " [-0.30668347  0.00835233]\n",
      " [ 0.07554066  0.54977581]\n",
      " [-0.32613263 -0.20716433]\n",
      " [-0.36861022 -0.24902536]\n",
      " [-0.29669651  0.38022942]]\n"
     ],
     "output_type": "stream"
    },
    {
     "data": {
      "text/plain": "<Figure size 432x288 with 1 Axes>",
      "image/png": "[encoded data removed]"
     },
     "metadata": {
      "needs_background": "light"
     },
     "output_type": "display_data"
    }
   ],
   "source": [
    "# [(고윳값, 고유 벡터)]를 만든다.\n",
    "eigen_pairs = [(np.abs(eigen_vals[i]), eigen_vecs[:, i]) for i in range(len(eigen_vals))]\n",
    "# 고윳값의 내림차순으로 정렬한다.\n",
    "eigen_pairs.sort(key=lambda k: k[0], reverse=True)\n",
    "# 2개의 고유벡터를 선택해서 투영 행렬을 만든다(주성분의 개수가 2개이고 전체 60%를 커버).\n",
    "w = np.hstack((eigen_pairs[0][1][:, np.newaxis], eigen_pairs[1][1][:, np.newaxis]))\n",
    "print('투영 행렬 W:\\n', w)\n",
    "\n",
    "# 훈련 데이터셋의 샘플x를 투영행렬(PCA의 부분공간) w를 투영한다.\n",
    "x_train_std[0].dot(w)\n",
    "# 훈련 데이터셋 전체 샘플에 투영행렬(PCA의 부분공간) w를 투영한다.\n",
    "x_train_pca = x_train_std.dot(w)\n",
    "\n",
    "# 변환된 Wine 훈련셋의 2차원 산점도를 시각화한다.\n",
    "\n",
    "colors = ['r', 'b', 'g']\n",
    "markers = ['s', 'x', 'o']\n",
    "\n",
    "for l, c, m in zip(np.unique(y_train), colors, markers):\n",
    "    plt.scatter(\n",
    "        x_train_pca[y_train==l, 0],\n",
    "        x_train_pca[y_train==l, 1],\n",
    "        c=c, label=l, marker=m\n",
    "    )\n",
    "    \n",
    "plt.xlabel('PC 1')\n",
    "plt.ylabel('PC 2')\n",
    "plt.legend(loc='lower left')\n",
    "plt.tight_layout()\n",
    "plt.show()"
   ],
   "metadata": {
    "collapsed": false,
    "pycharm": {
     "name": "#%%\n",
     "is_executing": false
    }
   }
  }
 ],
 "metadata": {
  "kernelspec": {
   "display_name": "Python 3",
   "language": "python",
   "name": "python3"
  },
  "language_info": {
   "codemirror_mode": {
    "name": "ipython",
    "version": 2
   },
   "file_extension": ".py",
   "mimetype": "text/x-python",
   "name": "python",
   "nbconvert_exporter": "python",
   "pygments_lexer": "ipython2",
   "version": "2.7.6"
  },
  "pycharm": {
   "stem_cell": {
    "cell_type": "raw",
    "source": [],
    "metadata": {
     "collapsed": false
    }
   }
  }
 },
 "nbformat": 4,
 "nbformat_minor": 0
}