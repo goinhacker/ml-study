{
 "cells": [
  {
   "cell_type": "markdown",
   "source": [
    "## Wine 데이터셋 로드하기"
   ],
   "metadata": {
    "collapsed": false,
    "pycharm": {
     "name": "#%% md\n"
    }
   }
  },
  {
   "cell_type": "code",
   "execution_count": 1,
   "metadata": {
    "collapsed": true,
    "pycharm": {
     "is_executing": false
    }
   },
   "outputs": [
    {
     "name": "stdout",
     "text": [
      "클래스 레이블 [1 2 3]\n"
     ],
     "output_type": "stream"
    },
    {
     "data": {
      "text/plain": "   Class label  Alcohol  Malic acid   Ash  Alcalinity of ash  Magnesium  \\\n0            1    14.23        1.71  2.43               15.6        127   \n1            1    13.20        1.78  2.14               11.2        100   \n2            1    13.16        2.36  2.67               18.6        101   \n3            1    14.37        1.95  2.50               16.8        113   \n4            1    13.24        2.59  2.87               21.0        118   \n\n   Total phenols  Flavanoids  Nonflavanoid phenols  Proanthocyanins  \\\n0           2.80        3.06                  0.28             2.29   \n1           2.65        2.76                  0.26             1.28   \n2           2.80        3.24                  0.30             2.81   \n3           3.85        3.49                  0.24             2.18   \n4           2.80        2.69                  0.39             1.82   \n\n   Color intensity   Hue  OD280/Od315 of diluted wines  Proline  \n0             5.64  1.04                          3.92     1065  \n1             4.38  1.05                          3.40     1050  \n2             5.68  1.03                          3.17     1185  \n3             7.80  0.86                          3.45     1480  \n4             4.32  1.04                          2.93      735  ",
      "text/html": "<div>\n<style scoped>\n    .dataframe tbody tr th:only-of-type {\n        vertical-align: middle;\n    }\n\n    .dataframe tbody tr th {\n        vertical-align: top;\n    }\n\n    .dataframe thead th {\n        text-align: right;\n    }\n</style>\n<table border=\"1\" class=\"dataframe\">\n  <thead>\n    <tr style=\"text-align: right;\">\n      <th></th>\n      <th>Class label</th>\n      <th>Alcohol</th>\n      <th>Malic acid</th>\n      <th>Ash</th>\n      <th>Alcalinity of ash</th>\n      <th>Magnesium</th>\n      <th>Total phenols</th>\n      <th>Flavanoids</th>\n      <th>Nonflavanoid phenols</th>\n      <th>Proanthocyanins</th>\n      <th>Color intensity</th>\n      <th>Hue</th>\n      <th>OD280/Od315 of diluted wines</th>\n      <th>Proline</th>\n    </tr>\n  </thead>\n  <tbody>\n    <tr>\n      <th>0</th>\n      <td>1</td>\n      <td>14.23</td>\n      <td>1.71</td>\n      <td>2.43</td>\n      <td>15.6</td>\n      <td>127</td>\n      <td>2.80</td>\n      <td>3.06</td>\n      <td>0.28</td>\n      <td>2.29</td>\n      <td>5.64</td>\n      <td>1.04</td>\n      <td>3.92</td>\n      <td>1065</td>\n    </tr>\n    <tr>\n      <th>1</th>\n      <td>1</td>\n      <td>13.20</td>\n      <td>1.78</td>\n      <td>2.14</td>\n      <td>11.2</td>\n      <td>100</td>\n      <td>2.65</td>\n      <td>2.76</td>\n      <td>0.26</td>\n      <td>1.28</td>\n      <td>4.38</td>\n      <td>1.05</td>\n      <td>3.40</td>\n      <td>1050</td>\n    </tr>\n    <tr>\n      <th>2</th>\n      <td>1</td>\n      <td>13.16</td>\n      <td>2.36</td>\n      <td>2.67</td>\n      <td>18.6</td>\n      <td>101</td>\n      <td>2.80</td>\n      <td>3.24</td>\n      <td>0.30</td>\n      <td>2.81</td>\n      <td>5.68</td>\n      <td>1.03</td>\n      <td>3.17</td>\n      <td>1185</td>\n    </tr>\n    <tr>\n      <th>3</th>\n      <td>1</td>\n      <td>14.37</td>\n      <td>1.95</td>\n      <td>2.50</td>\n      <td>16.8</td>\n      <td>113</td>\n      <td>3.85</td>\n      <td>3.49</td>\n      <td>0.24</td>\n      <td>2.18</td>\n      <td>7.80</td>\n      <td>0.86</td>\n      <td>3.45</td>\n      <td>1480</td>\n    </tr>\n    <tr>\n      <th>4</th>\n      <td>1</td>\n      <td>13.24</td>\n      <td>2.59</td>\n      <td>2.87</td>\n      <td>21.0</td>\n      <td>118</td>\n      <td>2.80</td>\n      <td>2.69</td>\n      <td>0.39</td>\n      <td>1.82</td>\n      <td>4.32</td>\n      <td>1.04</td>\n      <td>2.93</td>\n      <td>735</td>\n    </tr>\n  </tbody>\n</table>\n</div>"
     },
     "metadata": {},
     "output_type": "execute_result",
     "execution_count": 1
    }
   ],
   "source": [
    "import pandas as pd\n",
    "import numpy as np\n",
    "\n",
    "df_wine = pd.read_csv('https://archive.ics.uci.edu'\n",
    "                      '/ml/machine-learning-databases/wine/wine.data', header=None)\n",
    "df_wine.columns = [\n",
    "    'Class label', 'Alcohol', 'Malic acid', 'Ash', 'Alcalinity of ash', 'Magnesium',\n",
    "    'Total phenols', 'Flavanoids', 'Nonflavanoid phenols', 'Proanthocyanins','Color intensity',\n",
    "    'Hue', 'OD280/Od315 of diluted wines', 'Proline'\n",
    "]\n",
    "\n",
    "print('클래스 레이블', np.unique(df_wine['Class label']))\n",
    "df_wine.head()"
   ]
  },
  {
   "cell_type": "markdown",
   "source": [
    "## 데이터셋을 훈련셋과 테스트셋으로 나누기"
   ],
   "metadata": {
    "collapsed": false
   }
  },
  {
   "cell_type": "code",
   "execution_count": 2,
   "outputs": [],
   "source": [
    "from sklearn.model_selection import train_test_split\n",
    "\n",
    "# 인덱스 1에서 인덱스 13까지 특성을 넘파일 배열로 변환하여 x에 할당\n",
    "x = df_wine.iloc[:, 1:].values\n",
    "# 첫번째 열의 클래스 레이블을 y에 할당\n",
    "y = df_wine.iloc[:, 0].values\n",
    "# train_test_split 함수를 사용하여 x와 y를 랜덤하게 훈련셋과 테스트셋으로 분할\n",
    "x_train, x_test, y_train, y_test = train_test_split(\n",
    "    x, y, \n",
    "    test_size=0.3,      # 와인 샘플의 30%가 x_test와 y_test에 할당 \n",
    "    random_state=0, \n",
    "    stratify=y          # y로 하면 훈련셋과 테스트셋에 있는 클래스 비율이 원본 데이터셋과 동일하게 유지됨\n",
    ")"
   ],
   "metadata": {
    "collapsed": false,
    "pycharm": {
     "name": "#%%\n",
     "is_executing": false
    }
   }
  },
  {
   "cell_type": "markdown",
   "source": [
    "데이터 양에 따라서 적절한 비율의 테스트셋을 준비해야 한다.<br/>\n",
    "데이터가 클수로 테스트셋의 비율을 적게해도된다.<br/>"
   ],
   "metadata": {
    "collapsed": false
   }
  },
  {
   "cell_type": "markdown",
   "source": [
    "## 특성 스케일 맞추기\n",
    "\n",
    "결정 트리와 랜덤 포레스트 알고리즘은 특성 스케일의 영향을 받지 않는다.<br/>\n",
    "경사 하강법 알고리즘은 특성 스케일이 같은 때 훨씬 성능이 좋다.<br/>\n",
    "특성 스케일이 한쪽이 크면 해당 특성에만 맞추어 최적화된다.<br/>\n",
    "특성 스케일을 맞추는 두가지 방법은 정규화(normalization)와 표준화(standardization)가 있다.<br/>\n",
    "\n",
    "**정규화**는 특성의 스케일을 [0, 1] 범위에 맞추는 것이다.<br/>\n",
    "정규화의 예로 최소-최대 스케일 변환(min-max scaling)이 있다.<br/>\n",
    "최소-최대 스케일 변환은 범위가 정해진 값이 필요할 때 유용하다.<br/>\n",
    "최소-최대 스케일 변환은 비정상적으로 큰 값이나 아주 작은 값이 있을때, 다른 샘플들이 좁은 구간에 촘촘하게 모아지는 단점이 있다.<br/>\n",
    "최소-최대 스케일 변환은 다음과 같이 정의한다.<br/>\n",
    "$$x^{(i)}_{norm}={{x^{(i)}-x_{min}} \\over {x_{max}-x_{min}}}$$\n",
    "\n",
    "이를 사이킷런으로 구현하면 다음과 같다."
   ],
   "metadata": {
    "collapsed": false
   }
  },
  {
   "cell_type": "code",
   "execution_count": 3,
   "outputs": [],
   "source": [
    "from sklearn.preprocessing import MinMaxScaler\n",
    "\n",
    "mms = MinMaxScaler()\n",
    "# fit 함수는 훈련셋에만 딱 한번 적용해야 한다. \n",
    "# 이때 학습만 파라미터로 테스트셋과 데이토 포인트를 모두 변환한다.\n",
    "x_train_norm = mms.fit_transform(x_train)\n",
    "x_test_norm = mms.transform(x_test)"
   ],
   "metadata": {
    "collapsed": false,
    "pycharm": {
     "name": "#%%\n",
     "is_executing": false
    }
   }
  },
  {
   "cell_type": "markdown",
   "source": [
    "**표준화**는 평균을 0, 표준편차를 1로 만들어 정규 분포와 같은 특징을 가지도록 만드는 것이다.<br/>\n",
    "표준화 공식은 다음과 같다.<br/>\n",
    "$$x^{(i)}_{std}={{x^{(i)}-\\mu_x} \\over {\\sigma_x}}$$\n",
    "\n",
    "$\\mu_x$는 특성의 샘플 평균이다.\n",
    "$\\sigma_x$는 특성의 표준편차이다.\n",
    "\n",
    "표준화는 가중치를 좀 더 쉽게 학습할 수 있게 한다.\n",
    "표준화는 비정상적으로 큰값이나 작은값에 덜 민감하다.\n",
    "\n",
    "이를 사이킷런으로 구현하면 다음과 같다."
   ],
   "metadata": {
    "collapsed": false
   }
  },
  {
   "cell_type": "code",
   "execution_count": 4,
   "outputs": [],
   "source": [
    "from sklearn.preprocessing import StandardScaler\n",
    "\n",
    "stdsc = StandardScaler()\n",
    "# fit 함수는 훈련셋에만 딱 한번 적용해야 한다. \n",
    "# 이때 학습만 파라미터로 테스트셋과 데이토 포인트를 모두 변환한다.\n",
    "x_train_std = stdsc.fit_transform(x_train)\n",
    "x_test_std = stdsc.transform(x_test)"
   ],
   "metadata": {
    "collapsed": false,
    "pycharm": {
     "name": "#%%\n",
     "is_executing": false
    }
   }
  },
  {
   "cell_type": "markdown",
   "source": [
    "표준화와 정규화는 다음과 같은 코드로도 만들 수 있다."
   ],
   "metadata": {
    "collapsed": false,
    "pycharm": {
     "name": "#%% md\n"
    }
   }
  },
  {
   "cell_type": "code",
   "execution_count": 5,
   "outputs": [
    {
     "name": "stdout",
     "text": [
      "표준화: [-1.46385011 -0.87831007 -0.29277002  0.29277002  0.87831007  1.46385011]\n",
      "정규화: [0.  0.2 0.4 0.6 0.8 1. ]\n"
     ],
     "output_type": "stream"
    }
   ],
   "source": [
    "ex = np.array([0,1,2,3,4,5])\n",
    "\n",
    "print('표준화:', (ex - ex.mean()) / ex.std())\n",
    "print('정규화:', (ex - ex.min()) / ( ex.max() - ex.min()))"
   ],
   "metadata": {
    "collapsed": false,
    "pycharm": {
     "name": "#%%\n",
     "is_executing": false
    }
   }
  },
  {
   "cell_type": "markdown",
   "source": [
    "## 유용한 특성 선택\n",
    "\n",
    "모델의 테스트셋보다 훈련셋의 성능이 높다면 overfitting을 의심할 수 있다.<br/>\n",
    "overfitting은 훈련셋의 특정 샘플들에 대해서 과대적합되어 새로운 데이터에는 잘 일반화하지 못하는 현상이다.<br/>\n",
    "overfitting의 원인은 주어진 훈련 데이터에 비해 모델이 너무 복잡하기 때문이다.<br/>\n",
    "overfitting을 막기위한 방법은 다음과 같다.<br/>\n",
    "\n",
    "- 더 많은 훈련 데이터를 모은다.\n",
    "- Regularization를 통해 복잡도를 제한한다.(줄인다)\n",
    "- 파라미터 개수가 적은 간단한 모델을 선택한다.\n",
    "- 데이터 차원을 줄인다.\n",
    "\n",
    "### 모델 복잡도 제한을 위한 L1 Regularization와 L2 Regularization\n",
    "\n",
    "L2 Regularization는 다음과 같이 정의한다.\n",
    "\n",
    "$$L2:\\Vert w \\|^2_2=\\sum_{j-1}^mw^2_j$$\n",
    "\n",
    "L1 Regularization는 다음과 같이 정의한다.\n",
    "\n",
    "$$L1:\\| w \\|_1=\\sum_{j-1}^m|w_j|$$\n",
    "\n",
    "L2는 가중치를 제곱하고, L1은 가중치의 절댓값을 구한다.<br/>\n",
    "L2는 비용함수에 패널티 항을 추가해서 가중치의 값을 아주 작게 만든다.<br/>\n",
    "L1은 보통 희소한 벡터를 만든다. 즉, 대부분의 가중치가 0이된다.<br/>\n",
    "\n",
    "Wine 데이터에 L1 Regularization을 로지스틱 회귀로 적용하면 다음과 같다."
   ],
   "metadata": {
    "collapsed": false
   }
  },
  {
   "cell_type": "code",
   "execution_count": 6,
   "outputs": [
    {
     "name": "stdout",
     "text": [
      "훈련 정확도: 1.0\n",
      "테스트 정확도: 1.0\n"
     ],
     "output_type": "stream"
    },
    {
     "data": {
      "text/plain": "array([[ 1.2460319 ,  0.1807062 ,  0.74653137, -1.16381009,  0.        ,\n         0.        ,  1.15973686,  0.        ,  0.        ,  0.        ,\n         0.        ,  0.55705673,  2.50870623],\n       [-1.53734059, -0.38713982, -0.99508471,  0.36483879, -0.05969195,\n         0.        ,  0.66803946,  0.        ,  0.        , -1.93424688,\n         1.23402627,  0.        , -2.23196901],\n       [ 0.13553583,  0.1672072 ,  0.35653325,  0.        ,  0.        ,\n         0.        , -2.44311777,  0.        ,  0.        ,  1.56723369,\n        -0.82103411, -0.48576419,  0.        ]])"
     },
     "metadata": {},
     "output_type": "execute_result",
     "execution_count": 6
    }
   ],
   "source": [
    "from sklearn.linear_model import LogisticRegression\n",
    "\n",
    "lr = LogisticRegression(\n",
    "    solver='liblinear', multi_class='auto', # 두가지 설정을 다중 클래스 데이터셋에 적용하면 OvR 방식을 사용 \n",
    "    penalty='l1',       # L1 Regularization을 사용 \n",
    "    C=1.0,              # C값을 낮추면 Regularization의 강도가 강해진다.\n",
    "    random_state=42\n",
    ") \n",
    "\n",
    "lr.fit(x_train_std, y_train)\n",
    "print('훈련 정확도:', lr.score(x_train_std, y_train))\n",
    "print('테스트 정확도:', lr.score(x_test_std, y_test))\n",
    "\n",
    "# intercept_ 속성은 절편을 의미한다.\n",
    "# [클래스1을 2,3과 구분하는 모델에 속한 절편,클래스2을 1,3과 구분하는 모델에 속한 절편,클래스3을 1,2과 구분하는 모델에 속한 절편]\n",
    "lr.intercept_\n",
    "\n",
    "# coef_ 속성에 있는 가중치는 클래스마다 벡터 하나씩 세 개의 행이 있는 가중치 배열이다.\n",
    "lr.coef_"
   ],
   "metadata": {
    "collapsed": false,
    "pycharm": {
     "name": "#%%\n",
     "is_executing": false
    }
   }
  },
  {
   "cell_type": "markdown",
   "source": [
    "Regularization의 강도에 따른 가중치 변화 그래프를 그려보면 다음과 같다."
   ],
   "metadata": {
    "collapsed": false
   }
  },
  {
   "cell_type": "code",
   "execution_count": 7,
   "outputs": [
    {
     "data": {
      "text/plain": "<Figure size 432x288 with 1 Axes>",
      "image/png": "[encoded data removed]"
     },
     "metadata": {
      "needs_background": "light"
     },
     "output_type": "display_data"
    }
   ],
   "source": [
    "import matplotlib.pyplot as plt\n",
    "\n",
    "fig = plt.figure()\n",
    "ax = plt.subplot(111)\n",
    "\n",
    "colors = [\n",
    "    'blue', 'green', 'red', 'cyan', 'magenta', 'yellow', 'black',\n",
    "    'pink', 'lightgreen', 'lightblue', 'gray', 'indigo', 'orange'\n",
    "]\n",
    "weights, params = [], []\n",
    "\n",
    "for c in np.arange(-4., 6.):\n",
    "    lr = LogisticRegression(solver='liblinear', multi_class='auto', penalty='l1', C=10.**c, random_state=0)\n",
    "    lr.fit(x_train_std, y_train)\n",
    "    weights.append(lr.coef_[1])\n",
    "    params.append(10**c)\n",
    "\n",
    "weights = np.array(weights)\n",
    "\n",
    "for column, color in zip(range(weights.shape[1]), colors):\n",
    "    plt.plot(params, weights[:, column], label=df_wine.columns[column + 1], color=color)\n",
    "\n",
    "plt.axhline(0, color='black', linestyle='--', linewidth=3)\n",
    "plt.xlim([10**(-5), 10**5])\n",
    "plt.ylabel('weight cefficient')\n",
    "plt.xlabel('C')\n",
    "plt.xscale('log')\n",
    "plt.legend(loc='upper left')\n",
    "ax.legend(loc='upper center', bbox_to_anchor=(1.38, 1.03), ncol=1, fancybox=True)\n",
    "plt.show()"
   ],
   "metadata": {
    "collapsed": false,
    "pycharm": {
     "name": "#%%\n",
     "is_executing": false
    }
   }
  },
  {
   "cell_type": "markdown",
   "source": [
    "## 순차 특성 선택 알고리즘\n",
    "\n",
    "모델의 복잡도를 줄이고 overfitting을 피하는 다른 방법은 특성 선택을 통한 차원 축소(dimensionality reduction)이다.<br/>\n",
    "차원 축소 기법은 특성 선택(feature selection)과 특성 추출(feature extraction)이 있다.<br/>\n",
    "특성 선택은 원본 특성에서 일부를 선택한다.<br/>\n",
    "특성 추출은 일련의 특성에서 얻은 정보로 새로운 특성을 만든다.(5장에서 확인)<br/>\n",
    "\n",
    "**순차 특성 선택(sequential feature selection)**<br/>\n",
    "알고리즘은 탐욕적 탐색적 알고리즘(greedy search algorithm)이다.<br/>\n",
    "특성 선택 알고리즘의 목적은 주어진 문제에 가장 관련이 높은 특성 부분 집합을 자동으로 선택하는 것이다.<br/>\n",
    "관계없는 특성이나 잡음을 제거하여 계산 효율성을 높이고, 모델의 일반화 오차를 줄인다.<br/>\n",
    "Regularization이 없는 모델에서 특히 유용하다.<br/>\n",
    "\n",
    "**순차 후진 선택(Sequential Backward Selection, SBS)**<br/>\n",
    "SBS는 새로운 특성의 부분 공간이 목표하는 특성 개수가 될 때까지 전체 특성에서 순차적으로 특성을 제거하는 알고리즘이다.<br/>\n",
    "각 단계에서 특성 제거 여부를 결정하기 위한 기준 함수를 정의한다.<br/>\n",
    "기준 함수에서 계산한 값은 어떤 특성을 제거하기 전후의 모델 성능 차이이다.<br/>\n",
    "각 단계에서 제거했을때 성능 손실이 가장 적은 특성을 제거한다.<br/>\n",
    "SBS 알고리즘의 각 단계는 다음과 같다.<br/>\n",
    "\n",
    "SBS 알고리즘을 직접 구현하면 다음과 같다.(사이킷런은 미지원)<br/>"
   ],
   "metadata": {
    "collapsed": false,
    "pycharm": {
     "name": "#%% md\n"
    }
   }
  },
  {
   "cell_type": "code",
   "execution_count": 8,
   "outputs": [],
   "source": [
    "from sklearn.base import clone\n",
    "from itertools import combinations\n",
    "import numpy as np\n",
    "from sklearn.metrics import accuracy_score\n",
    "from sklearn.model_selection import train_test_split\n",
    "\n",
    "class SBS:\n",
    "    def __init__(\n",
    "            self, estimator,\n",
    "            k_features,    # 목표 특성 개수를 설정\n",
    "            scoring=accuracy_score, # 기본적으로 사이킷런의 accuracy_score 함수로 남은 특성들의 모델 성능을 평가\n",
    "            test_size=0.25, random_state=1\n",
    "    ):\n",
    "        self.scoring = scoring\n",
    "        self.estimator = clone(estimator)\n",
    "        self.k_features = k_features        \n",
    "        self.test_size = test_size\n",
    "        self.random_state = random_state\n",
    "        \n",
    "    def fit(self, x, y):\n",
    "        # 훈련셋과 테스트셋으로 나눈다.\n",
    "        x_train, x_test, y_train, y_test = train_test_split(\n",
    "            x, y, test_size=self.test_size, random_state=self.random_state\n",
    "        )\n",
    "        \n",
    "        dim = x_train.shape[1]\n",
    "        self.indices_ = tuple(range(dim))   # 최종 선택된 특성의 열 인덱스를 할당\n",
    "        self.subsets_ = [self.indices_]\n",
    "        score = self._calc_score(x_train, y_train, x_test, y_test, self.indices_)\n",
    "        self.scores_ = [score]\n",
    "        \n",
    "        while dim > self.k_features:\n",
    "            scores = []     # x_test로 최적 조합의 정확도 점수를 저장\n",
    "            subsets = []\n",
    "            \n",
    "             # itertools.combination 함수에 의해 생성된 특성 조합을 평가\n",
    "            for p in combinations(self.indices_, r=dim - 1):\n",
    "                # 특성 조합의 모델을 평가\n",
    "                score = self._calc_score(x_train, y_train, x_test, y_test, p)   \n",
    "                scores.append(score)    # 평가 결과를 keep한다.\n",
    "                subsets.append(p)       # 특성 조합을 keep한다.\n",
    "                \n",
    "            best = np.argmax(scores)\n",
    "            self.indices_ = subsets[best]\n",
    "            self.subsets_.append(self.indices_)\n",
    "            dim -= 1    # 특성을 줄인다.\n",
    "            self.scores_.append(scores[best])\n",
    "        self.k_score_ = self.scores_[-1]\n",
    "        \n",
    "        return self\n",
    "    \n",
    "    def tranform(self, x):\n",
    "        return x[:, self.indices_]  # 선택된 특성으로 구성된 데이터 배열 반환\n",
    "    \n",
    "    # 모델을 평가해서 평가 점수를 점수를 반환한다.\n",
    "    def _calc_score(self, x_train, y_train, x_test, y_test, indices):\n",
    "        self.estimator.fit(x_train[:, indices], y_train)\n",
    "        y_pred = self.estimator.predict(x_test[:, indices])\n",
    "        score = self.scoring(y_test, y_pred)\n",
    "        return score\n",
    "        "
   ],
   "metadata": {
    "collapsed": false,
    "pycharm": {
     "name": "#%%\n",
     "is_executing": false
    }
   }
  },
  {
   "cell_type": "code",
   "execution_count": 9,
   "outputs": [
    {
     "data": {
      "text/plain": "<Figure size 432x288 with 1 Axes>",
      "image/png": "[encoded data removed]"
     },
     "metadata": {
      "needs_background": "light"
     },
     "output_type": "display_data"
    }
   ],
   "source": [
    "# KNN 분류기를 사용해서 SBS가 잘 동작하는지 테스트\n",
    "\n",
    "import matplotlib.pyplot as plt\n",
    "from sklearn.neighbors import KNeighborsClassifier\n",
    "\n",
    "knn = KNeighborsClassifier(n_neighbors=5)\n",
    "\n",
    "sbs = SBS(knn, k_features=1)\n",
    "# 내부적으로는 훈련셋과 테스트셋을 나누지만 KNN에서는 x_train 데이터만 넣는다.\n",
    "sbs.fit(x_train_std, y_train)\n",
    "\n",
    "k_feat = [len(k) for k in sbs.subsets_]\n",
    "\n",
    "plt.plot(k_feat, sbs.scores_, marker='o')\n",
    "plt.ylim([0.7, 1.02])\n",
    "plt.ylabel('Accuracy')\n",
    "plt.xlabel('Number of features')\n",
    "plt.grid()\n",
    "plt.tight_layout()\n",
    "plt.show()"
   ],
   "metadata": {
    "collapsed": false,
    "pycharm": {
     "name": "#%%\n",
     "is_executing": false
    }
   }
  },
  {
   "cell_type": "markdown",
   "source": [
    "특성 개수가 줄었을 때 테스트셋에서 KNN 분류기의 정확도가 향상되었다.<br/>\n",
    "\n",
    "k = [3, 7, 8, 9, 10, 11, 12]에서 분류기가 100% 정확도를 달성했다. "
   ],
   "metadata": {
    "collapsed": false
   }
  },
  {
   "cell_type": "code",
   "execution_count": 10,
   "outputs": [
    {
     "name": "stdout",
     "text": [
      "Index(['Alcohol', 'Malic acid', 'OD280/Od315 of diluted wines'], dtype='object')\n",
      "훈련 정확도: 0.967741935483871\n",
      "테스트 정확도: 0.9629629629629629\n",
      "훈련 정확도: 0.9516129032258065\n",
      "테스트 정확도: 0.9259259259259259\n"
     ],
     "output_type": "stream"
    }
   ],
   "source": [
    "# k=3일때 높은 테스트셋 성능을 내는 특성이 어떤 것이 있는지 확인한다.\n",
    "\n",
    "k3 = list(sbs.subsets_[10])     # 세개의 특성에 대한 열 인덱스를 얻는다.\n",
    "print(df_wine.columns[1:][k3])  # 열 인덱스로 판단스 Wine DataFrame의 특성 이름을 출력한다.\n",
    "\n",
    "\n",
    "# 본래의 테스트셋으로 KNN 성능 확인\n",
    "knn.fit(x_train_std, y_train)\n",
    "print('훈련 정확도:', knn.score(x_train_std, y_train))\n",
    "print('테스트 정확도:', knn.score(x_test_std, y_test))\n",
    "\n",
    "# 선택된 세개의 특성으로 구성된 테스트셋으로 KNN의 성능 확인\n",
    "knn.fit(x_train_std[:, k3], y_train)\n",
    "print('훈련 정확도:', knn.score(x_train_std[:, k3], y_train))\n",
    "print('테스트 정확도:', knn.score(x_test_std[:, k3], y_test))"
   ],
   "metadata": {
    "collapsed": false,
    "pycharm": {
     "name": "#%%\n",
     "is_executing": false
    }
   }
  },
  {
   "cell_type": "markdown",
   "source": [
    "원본 특성의 4분의 1보다도 적은 특성을 사용했지만, 테스트셋 예측 정확도는 약간 감소했다.<br/>\n",
    "정확도 감소는 훈련셋을 다시 훈련셋과 테스트셋을 나눈 것의 영향을 받을 수 있다.<br/>\n",
    "데이터셋의 크기가 줄었기 때문에 수집 비용이 높은 실전 애플리케이션에서 유용할 수 있다.<br/>\n",
    "특성 개수가 크게 줄었기 때문에 모델이 간단하고 해석이 쉽다.<br/>\n",
    "\n",
    "사이킷런에 준비된 특성 선택 알고리즘은 다음과 같다.\n",
    "- 재귀적 특성 제거(recursive feature elimination): 특성 가중치에 기반을 둠\n",
    "- 트리 기반 방법: 특성 중요도를 사용\n",
    "- 일변량 통계 테스트(univariate statistical test)"
   ],
   "metadata": {
    "collapsed": false,
    "pycharm": {
     "name": "#%% md\n"
    }
   }
  },
  {
   "cell_type": "markdown",
   "source": [
    "## 랜덤 포레스트의 특성 중요도 사용\n",
    "\n",
    "랜덤 포레스트는 데이터셋에서 유용한 특성을 선택하는 방법 중 하나이다.<br/>\n",
    "랜덤 포레스트 앙상블에 참여한 모든 결정트리에서 계산한 평균적인 불순도 감소로 특성 중요도를 측정한다.<br/>\n",
    "사이킷런의 RandomForestClassifier.feature_importances_는 특성 중요도 값이다.<br/>\n",
    "\n",
    "다음은 랜덤 포레스트를 사용해서 특성의 중요도 순위를 매긴 것이다.<br/>"
   ],
   "metadata": {
    "collapsed": false,
    "pycharm": {
     "name": "#%% md\n"
    }
   }
  },
  {
   "cell_type": "code",
   "execution_count": 11,
   "outputs": [
    {
     "name": "stdout",
     "text": [
      " 1) Proline                        0.185453\n",
      " 2) Flavanoids                     0.174751\n",
      " 3) Color intensity                0.143920\n",
      " 4) OD280/Od315 of diluted wines   0.136162\n",
      " 5) Alcohol                        0.118529\n",
      " 6) Hue                            0.058739\n",
      " 7) Total phenols                  0.050872\n",
      " 8) Magnesium                      0.031357\n",
      " 9) Malic acid                     0.025648\n",
      "10) Proanthocyanins                0.025570\n",
      "11) Alcalinity of ash              0.022366\n",
      "12) Nonflavanoid phenols           0.013354\n",
      "13) Ash                            0.013279\n"
     ],
     "output_type": "stream"
    },
    {
     "data": {
      "text/plain": "<Figure size 432x288 with 1 Axes>",
      "image/png": "[encoded data removed]"
     },
     "metadata": {
      "needs_background": "light"
     },
     "output_type": "display_data"
    }
   ],
   "source": [
    "from sklearn.ensemble import RandomForestClassifier\n",
    "\n",
    "feat_labels = df_wine.columns[1:]\n",
    "\n",
    "# 500개 의사결정트리를 사용\n",
    "forest = RandomForestClassifier(n_estimators=500, random_state=1)\n",
    "# 트리기반 모델은 표준화나 정규화를 할 필요가 없다.\n",
    "forest.fit(x_train, y_train)\n",
    "importances = forest.feature_importances_   #  특성 중요도 값\n",
    "\n",
    "indices = np.argsort(importances)[::-1] # 중요도가 높은 순서대로 정렬\n",
    "\n",
    "for f in range(x_train.shape[1]):\n",
    "    print(\"%2d) %-*s %f\" % (f + 1, 30, feat_labels[indices[f]], importances[indices[f]]))\n",
    "\n",
    "plt.title('Feature Importance')\n",
    "plt.bar(range(x_train.shape[1]), importances[indices], align='center')\n",
    "plt.xticks(range(x_train.shape[1]), feat_labels[indices], rotation=90)\n",
    "plt.xlim([-1, x_train.shape[1]])\n",
    "plt.tight_layout()\n",
    "plt.show()"
   ],
   "metadata": {
    "collapsed": false,
    "pycharm": {
     "name": "#%%\n",
     "is_executing": false
    }
   }
  },
  {
   "cell_type": "markdown",
   "source": [
    "랜덤 포레스트에서 두 개 이상의 특성이 매우 상관관계가 높다면 하나의 특성은 매우 높은 순위를 갖지만 다른 특성 정보는 잡아내지 못할 수 있다.<br/>\n",
    "특성 중요도 값에 대한 해석보다, 모델의 예측 성능에만 관심이 있다면 이 문제는 신경쓰지 않아도 된다.<br/>\n",
    "\n",
    "사이킷런의 SelectFromModel은 모델 훈련이 끝난 후, 사용자가 지정한 임계 값을 기반으로 특성을 선택한다.<br/>\n",
    "이제 위에서 만든 랜덤 포레스트에서 임계값을 0.1로 설정하고 5개의 특성을 선택하면 다음과 같다.<br/>"
   ],
   "metadata": {
    "collapsed": false
   }
  },
  {
   "cell_type": "code",
   "execution_count": 12,
   "outputs": [
    {
     "name": "stdout",
     "text": [
      "이 임계 조건을 만족하는 샘플의 수: 5\n",
      " 1) Proline                        0.185453\n",
      " 2) Flavanoids                     0.174751\n",
      " 3) Color intensity                0.143920\n",
      " 4) OD280/Od315 of diluted wines   0.136162\n",
      " 5) Alcohol                        0.118529\n"
     ],
     "output_type": "stream"
    }
   ],
   "source": [
    "from sklearn.feature_selection import SelectFromModel\n",
    "\n",
    "sfm = SelectFromModel(forest, threshold=0.1, prefit=True)\n",
    "x_selected = sfm.transform(x_train)\n",
    "print('이 임계 조건을 만족하는 샘플의 수:', x_selected.shape[1])\n",
    "\n",
    "for f in range(x_selected.shape[1]):\n",
    "    print(\"%2d) %-*s %f\" % (f + 1, 30, feat_labels[indices[f]], importances[indices[f]]))"
   ],
   "metadata": {
    "collapsed": false,
    "pycharm": {
     "name": "#%%\n",
     "is_executing": false
    }
   }
  }
 ],
 "metadata": {
  "kernelspec": {
   "display_name": "Python 3",
   "language": "python",
   "name": "python3"
  },
  "language_info": {
   "codemirror_mode": {
    "name": "ipython",
    "version": 2
   },
   "file_extension": ".py",
   "mimetype": "text/x-python",
   "name": "python",
   "nbconvert_exporter": "python",
   "pygments_lexer": "ipython2",
   "version": "2.7.6"
  },
  "pycharm": {
   "stem_cell": {
    "cell_type": "raw",
    "source": [],
    "metadata": {
     "collapsed": false
    }
   }
  }
 },
 "nbformat": 4,
 "nbformat_minor": 0
}