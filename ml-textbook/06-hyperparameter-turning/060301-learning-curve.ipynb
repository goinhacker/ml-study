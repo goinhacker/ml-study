{
 "cells": [
  {
   "cell_type": "markdown",
   "metadata": {
    "collapsed": true,
    "pycharm": {
     "name": "#%% md\n"
    }
   },
   "source": [
    "## 학습 곡선으로 편향과 분산 문제 분석\n",
    "\n",
    "학습 곡선은 과대적합(높은 분산) 또는 과소적합(높은 편향)되는지 분석할때 유용하다.<br/>\n",
    "\n",
    "과대적합, 과소적합 문제를 해결하는 방법으로 훈련셋의 크기를 조정하는 방법이 있다.<br/> \n",
    "모델의 훈련 정확도와 검증 정확도를 훈련셋의 크기 함수로 그래프를 그리면, 훈련셋을 늘리는 것으로 과대/과소적합 문제를 해결할 수 있을지 판단이 가능하다.<br/>\n",
    "\n",
    "유방암 데이터셋을 사용해서 학습 곡선을 그려보면 다음과 같다. "
   ]
  },
  {
   "cell_type": "code",
   "execution_count": 1,
   "outputs": [],
   "source": [
    "import pandas as pd\n",
    "from sklearn.preprocessing import LabelEncoder\n",
    "from sklearn.model_selection import train_test_split\n",
    "\n",
    "df = pd.read_csv(   # 위스콘신 유방암 데이터셋 로딩\n",
    "    'https://archive.ics.uci.edu/ml/machine-learning-databases/breast-cancer-wisconsin/wdbc.data', \n",
    "    header=None\n",
    ")\n",
    "\n",
    "x = df.loc[:, 2:].values    # 30개의 특성을 x에 할당\n",
    "y = df.loc[:, 1].values     # 클래스 레이블을 y에 할당\n",
    "y = LabelEncoder().fit_transform(y) # 클래스 레이블을 정수로 변환(악성: 1, 양성: 0)\n",
    "x_train, x_test, y_train, y_test = train_test_split(x, y, test_size=0.20, stratify=y, random_state=1)"
   ],
   "metadata": {
    "collapsed": false,
    "pycharm": {
     "name": "#%%\n",
     "is_executing": false
    }
   }
  },
  {
   "cell_type": "code",
   "execution_count": 3,
   "outputs": [
    {
     "data": {
      "text/plain": "<Figure size 432x288 with 1 Axes>",
      "image/png": "[encoded data removed]"
     },
     "metadata": {
      "needs_background": "light"
     },
     "output_type": "display_data"
    }
   ],
   "source": [
    "import numpy as np\n",
    "import matplotlib.pyplot as plt\n",
    "from sklearn.model_selection import learning_curve\n",
    "from sklearn.preprocessing import StandardScaler\n",
    "from sklearn.linear_model import LogisticRegression\n",
    "from sklearn.pipeline import make_pipeline\n",
    "\n",
    "pipe_lr = make_pipeline(\n",
    "    StandardScaler(),\n",
    "    LogisticRegression(solver='liblinear', penalty='l2', random_state=1)\n",
    ")\n",
    "\n",
    "train_sizes, train_scores, test_scores = learning_curve(\n",
    "    estimator=pipe_lr,\n",
    "    X=x_train,\n",
    "    y=y_train,\n",
    "    train_sizes=np.linspace(0.1, 1.0, 10),  # 학습곡선을 생성하는데 사용할 훈련 샘플의 개수나 비율을 지정\n",
    "    # 기본적으로 learning_curve 함수는 계층별 k-겹 교차 검증을 사용하여 교차 검증 정확도를 계산한다.\n",
    "    cv=10,                                  # 교차 검증에 사용할 k값을 설정\n",
    "    n_jobs=1\n",
    ")\n",
    "\n",
    "train_mean = np.mean(train_scores, axis=1)\n",
    "train_std = np.std(train_scores, axis=1)\n",
    "test_mean = np.mean(test_scores, axis=1)\n",
    "test_std = np.mean(test_scores, axis=1)\n",
    "\n",
    "# 훈련셋 크기별로 훈련 교차 검증 점수의 평균 정확도 변화를 표현\n",
    "plt.plot(train_sizes, train_mean, color='blue', marker='o', markersize=5, label='training accuracy')\n",
    "# fill_between 함수로 훈련셋의 평균 정확도와 표준 편차를 그려서 추정 분산을 표현\n",
    "plt.fill_between(train_sizes, train_mean + train_std, train_mean - train_std, alpha=0.15, color='blue')\n",
    "\n",
    "# 훈련셋 크기별로 테스트 교차 검증 점수의 평균 정확도 변화를 표현\n",
    "plt.plot(train_sizes, test_mean, color='green', linestyle='--', marker='s', markersize=5, label='validation accuracy')\n",
    "# fill_between 함수로 테스트셋의 평균 정확도와 표준 편차를 그려서 추정 분산을 표현\n",
    "plt.fill_between(train_sizes, test_mean + test_std, test_mean - test_std, alpha=0.15, color='green')\n",
    "\n",
    "plt.grid()\n",
    "plt.xlabel('Number of training samples')\n",
    "plt.ylabel('Accuracy')\n",
    "plt.legend(loc='lower right')\n",
    "plt.ylim([0.8, 1.03])\n",
    "plt.tight_layout()\n",
    "plt.show()"
   ],
   "metadata": {
    "collapsed": false,
    "pycharm": {
     "name": "#%%\n",
     "is_executing": false
    }
   }
  },
  {
   "cell_type": "markdown",
   "source": [
    "그래프를 분석하는 방법은 다음과 같다. \n",
    "\n",
    "훈련 정확도와 검증 정확도가 모두 기대보다 낮은 정확도에 있다면 과소적합된 것이다.<br/> \n",
    "이 경우, 모델의 특성을 더 찾아서 늘리거나 규제 강도를 줄여볼 수 있다.<br/>\n",
    "\n",
    "훈련 정확도와 검증 정확도의 차이가 크면 과대적합된 것이다.<br/>\n",
    "이 경우, 더 많은 데이터를 모으거나 모델의 복잡도를 낮추거나 규제의 강도를 올려볼 수 있다<br/>\n",
    "\n",
    "훈련 정확도와 검증 정확도가 모두 기대 정확도에 근접하게 수렵하면 좋은 편향과 분산을 가졌다고 볼 수 있다.<br/> \n",
    "\n",
    "유방암 데이터셋의 학습 곡선은 훈련셋이 250개 이하일때 과대적합이 된다.<br/>\n",
    "\n",
    "\n",
    "\n",
    "\n",
    "\n",
    "\n"
   ],
   "metadata": {
    "collapsed": false
   }
  }
 ],
 "metadata": {
  "kernelspec": {
   "display_name": "Python 3",
   "language": "python",
   "name": "python3"
  },
  "language_info": {
   "codemirror_mode": {
    "name": "ipython",
    "version": 2
   },
   "file_extension": ".py",
   "mimetype": "text/x-python",
   "name": "python",
   "nbconvert_exporter": "python",
   "pygments_lexer": "ipython2",
   "version": "2.7.6"
  },
  "pycharm": {
   "stem_cell": {
    "cell_type": "raw",
    "source": [],
    "metadata": {
     "collapsed": false
    }
   }
  }
 },
 "nbformat": 4,
 "nbformat_minor": 0
}