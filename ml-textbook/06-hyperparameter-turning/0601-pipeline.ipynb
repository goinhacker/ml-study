{
 "cells": [
  {
   "cell_type": "markdown",
   "metadata": {
    "collapsed": true,
    "pycharm": {
     "name": "#%% md\n"
    }
   },
   "source": [
    "## Machine Learning Big Picture\n",
    "\n",
    "- 데이터 추출\n",
    "- 데이터 전처리\n",
    "  - 데이터 정제 및 벡터화\n",
    "  - 샘플 클래스 불균형 문제 해결\n",
    "  - 훈련셋과 테스트셋 분할\n",
    "  - 특성 스케일 조정\n",
    "    - 정규화: 최소-최대 스케일 변환\n",
    "    - 표준화: 평균 0, 표준편차 1\n",
    "  - 효츌적인 특성 선택\n",
    "    - L1, L2를 통한 복잡도 제한\n",
    "    - 특성 선택을 통한 차원 축소\n",
    "      - 순차 특성 선택(Sequential Feature Selection, SFS)\n",
    "      - 순차 후진 선택(Sequential Backward Selection, SBS)\n",
    "      - 랜덤포레스트(Random Forest)\n",
    "      - 재귀적 특성 제거(Recursive Feature Elimination)\n",
    "      - 일변량 통계 테스트(Univariate Statistical Test)\n",
    "    - 특성 추출을 통한 차원 축소\n",
    "      - 주성분 분석(Principal Component Analysis, PCA)\n",
    "      - 선형 판별 분석(Linear Discriminant Analysis, LDA)\n",
    "      - 커널 PCA\n",
    "- 학습 알고리즘 선택\n",
    "  - 로지스틱 회귀(Logistic Regression)\n",
    "  - 서포트 벡터 머신(Support Vector Machine, SVM)\n",
    "  - 커널 SVM\n",
    "  - 의사결정 트리\n",
    "  - 랜덤포레스트\n",
    "  - K-최근접 이웃(K-Nearest Neighbor, KNN)\n",
    "- 학습 모델 성능 평가 지표 선택\n",
    "  - 정확도(accuracy)\n",
    "  - 예측 오차(error rate)\n",
    "  - 정밀도(precision)\n",
    "  - 재현율(recall)\n",
    "  - F1-점수\n",
    "  - 마이크로(micro) 평균\n",
    "  - 마크로(macro) 평균\n",
    "- 학습 모델 성능 평가 및 파라미터 튜닝\n",
    "  - 홀드아웃 교차 검증(Holdout Cross Validation)\n",
    "  - K-겹 교차 검증(K-fold Cross Validation)\n",
    "  - 계층적 K-겹 교차 검증(Stratified K-fold Cross Validation)\n",
    "  - 중첩 교차 검증(Nested Cross Validation)\n",
    "  - 학습 곡선(Learning Curve)\n",
    "  - 검증 곡선(Validation Curve)\n",
    "  - 그리드 서치(Grid Search)\n",
    "  - ROC 곡선(Receiver Operating Characteristic)"
   ]
  },
  {
   "cell_type": "markdown",
   "source": [
    "  \n",
    "## 파이파라인을 사용한 효율적인 워크플로 구성하기\n",
    "\n",
    "사이킷런의 Pipeline 클래스를 사용하면 여러 개의 변환 단계를 하나의 워크플로로 구성할 수 있다.<br/>\n",
    "다음은 위스콘신 유방암 데이터셋의 30개의 특성으로 종양이 악성인지 양상이지 예측하는 모델 만든 것 이다.<br/>"
   ],
   "metadata": {
    "collapsed": false,
    "pycharm": {
     "name": "#%% md\n"
    }
   }
  },
  {
   "cell_type": "code",
   "source": [
    "import pandas as pd\n",
    "from sklearn.preprocessing import LabelEncoder\n",
    "\n",
    "# 위스콘신 유방암 데이터셋 로딩\n",
    "df = pd.read_csv(\n",
    "    'https://archive.ics.uci.edu/ml/machine-learning-databases/breast-cancer-wisconsin/wdbc.data', \n",
    "    header=None\n",
    ")\n",
    "\n",
    "x = df.loc[:, 2:].values    # 30개의 특성을 x에 할당\n",
    "y = df.loc[:, 1].values     # 클래스 레이블을 y에 할당\n",
    "# 클래스 레이블을 정수로 변환(악성: 1, 양성: 0)\n",
    "labelEncoder = LabelEncoder()\n",
    "y = labelEncoder.fit_transform(y)\n",
    "print(labelEncoder.classes_)               # 원본 문자열 확인\n",
    "print(labelEncoder.transform(['M', 'B']))    # 매핑 결과 확인"
   ],
   "metadata": {
    "collapsed": false,
    "pycharm": {
     "name": "#%%\n",
     "is_executing": false
    }
   },
   "execution_count": 3,
   "outputs": [
    {
     "name": "stdout",
     "text": [
      "['B' 'M']\n",
      "[1 0]\n"
     ],
     "output_type": "stream"
    }
   ]
  },
  {
   "cell_type": "code",
   "execution_count": 4,
   "outputs": [],
   "source": [
    "from sklearn.model_selection import train_test_split\n",
    "\n",
    "# 훈련셋(80%)과 테스트셋(20%)로 나눈다.\n",
    "x_train, x_test, y_train, y_test = train_test_split(x, y, test_size=0.20, stratify=y, random_state=1)"
   ],
   "metadata": {
    "collapsed": false,
    "pycharm": {
     "name": "#%%\n",
     "is_executing": false
    }
   }
  },
  {
   "cell_type": "code",
   "execution_count": 5,
   "outputs": [
    {
     "name": "stdout",
     "text": [
      "테스트 정확도: 0.956\n"
     ],
     "output_type": "stream"
    }
   ],
   "source": [
    "from sklearn.preprocessing import StandardScaler\n",
    "from sklearn.decomposition import PCA\n",
    "from sklearn.linear_model import LogisticRegression\n",
    "from sklearn.pipeline import make_pipeline\n",
    "\n",
    "pipe_lr = make_pipeline(\n",
    "    StandardScaler(),       # 표준화를 사용한 특성 스케일 조정\n",
    "    PCA(n_components=2),    # PCA를 사용해서 2차원 부분공간으로 데이터 압축\n",
    "    LogisticRegression(solver='liblinear', random_state=1)  # 로지스틱회귀 알고리즘으로 학습\n",
    ")\n",
    "pipe_lr.fit(x_train, y_train)           # 표준화 및 차원 축소\n",
    "y_predicate = pipe_lr.predict(x_test)   # 변환된 데이터에 대한 예측 반환\n",
    "\n",
    "print('테스트 정확도: %.3f' % pipe_lr.score(x_test, y_test))"
   ],
   "metadata": {
    "collapsed": false,
    "pycharm": {
     "name": "#%%\n",
     "is_executing": false
    }
   }
  }
 ],
 "metadata": {
  "kernelspec": {
   "display_name": "Python 3",
   "language": "python",
   "name": "python3"
  },
  "language_info": {
   "codemirror_mode": {
    "name": "ipython",
    "version": 2
   },
   "file_extension": ".py",
   "mimetype": "text/x-python",
   "name": "python",
   "nbconvert_exporter": "python",
   "pygments_lexer": "ipython2",
   "version": "2.7.6"
  },
  "pycharm": {
   "stem_cell": {
    "cell_type": "raw",
    "source": [],
    "metadata": {
     "collapsed": false
    }
   }
  }
 },
 "nbformat": 4,
 "nbformat_minor": 0
}