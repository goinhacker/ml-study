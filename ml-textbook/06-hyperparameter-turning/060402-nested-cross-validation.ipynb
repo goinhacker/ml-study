{
 "cells": [
  {
   "cell_type": "markdown",
   "metadata": {
    "collapsed": true,
    "pycharm": {
     "name": "#%% md\n"
    }
   },
   "source": [
    "중첩 교차 검증(nested cross-validation)은 여러 종류의 머신러닝 알고리즘을 비교할때 유용하다.</br>\n",
    "중첩 교차 검증은 바깥쪽 k-겹 교차 검증 루프가 훈련 폴드와 테스트 폴드를 나누고,</br>\n",
    "안쪽 루프가 k-겹 교차 검증을 수행해서 모델을 선택한다.</br>\n",
    "모델이 선택되면 테스트 폴드를 사용해서 모델의 성능을 평가한다.</br>\n",
    "\n",
    "다음은 바깥 루프 5개 안쪽 루프에 두개 폴드를 사용한 중첩 교차 검증을 도식화한 것이다.\n",
    "\n",
    "<img src=\"../../images/nested-cross-validation.png\" width=\"700px\" height=\"300px\"/>\n",
    "<caption><center>중첩 교차 검증</center></caption>\n",
    "\n",
    "</br></br>\n",
    "다음은 사이킷런의 중첩 교차 검증으로 SVC와 결정 트리의 성능을 비교한 것이다."
   ]
  },
  {
   "cell_type": "code",
   "execution_count": 1,
   "outputs": [],
   "source": [
    "import pandas as pd\n",
    "from sklearn.preprocessing import LabelEncoder\n",
    "from sklearn.model_selection import train_test_split\n",
    "\n",
    "df = pd.read_csv(   # 위스콘신 유방암 데이터셋 로딩\n",
    "    'https://archive.ics.uci.edu/ml/machine-learning-databases/breast-cancer-wisconsin/wdbc.data', \n",
    "    header=None\n",
    ")\n",
    "\n",
    "x = df.loc[:, 2:].values    # 30개의 특성을 x에 할당\n",
    "y = df.loc[:, 1].values     # 클래스 레이블을 y에 할당\n",
    "y = LabelEncoder().fit_transform(y) # 클래스 레이블을 정수로 변환(악성: 1, 양성: 0)\n",
    "x_train, x_test, y_train, y_test = train_test_split(x, y, test_size=0.20, stratify=y, random_state=1)"
   ],
   "metadata": {
    "collapsed": false,
    "pycharm": {
     "name": "#%%\n",
     "is_executing": false
    }
   }
  },
  {
   "cell_type": "code",
   "execution_count": 3,
   "outputs": [
    {
     "name": "stdout",
     "text": [
      "SVC CV 정확도: 0.974 +/- 0.015\n",
      "결정 트리 CV 정확도: 0.934 +/- 0.016\n"
     ],
     "output_type": "stream"
    }
   ],
   "source": [
    "import numpy as np\n",
    "from sklearn.preprocessing import StandardScaler\n",
    "from sklearn.pipeline import make_pipeline\n",
    "from sklearn.model_selection import GridSearchCV\n",
    "from sklearn.svm import SVC\n",
    "from sklearn.model_selection import cross_val_score\n",
    "from sklearn.tree import DecisionTreeClassifier\n",
    "\n",
    "# 중첩 교차 검증으로 SVC 모델의 정확도 측정\n",
    "\n",
    "param_range = [0.0001, 0.001, 0.01, 0.1, 1.0, 10.0, 100.0, 1000.0]\n",
    "param_grid = [  # 튜닝 대상 매개변수의 리스트\n",
    "    # 선형 SVM은 규제 매개변수 C만 튜닝한다.\n",
    "    {'svc__C': param_range, 'svc__kernel': ['linear']},\n",
    "    # RBF 커널 SVM에서는 C와 gamma 매개변수를 튜닝한다.\n",
    "    {'svc__C': param_range, 'svc__gamma': param_range, 'svc__kernel': ['rbf']}\n",
    "]\n",
    "gs_svc = GridSearchCV(\n",
    "    estimator=make_pipeline(StandardScaler(), SVC(random_state=1)), \n",
    "    param_grid=param_grid, \n",
    "    scoring='accuracy', \n",
    "    cv=2\n",
    ")\n",
    "scores_svc = cross_val_score(gs_svc, x_train, y_train, scoring='accuracy', cv=5)\n",
    "\n",
    "print('SVC CV 정확도: %.3f +/- %.3f' % (np.mean(scores_svc), np.std(scores_svc)))\n",
    "\n",
    "gs_dtc = GridSearchCV(\n",
    "    estimator=DecisionTreeClassifier(random_state=0),\n",
    "    param_grid=[{'max_depth': [1,2,3,4,5,6,7,None]}],\n",
    "    scoring='accuracy',\n",
    "    cv=2\n",
    ")\n",
    "scores_dtc = cross_val_score(gs_dtc, x_train, y_train, scoring='accuracy', cv=5)\n",
    "\n",
    "print('결정 트리 CV 정확도: %.3f +/- %.3f' % (np.mean(scores_dtc), np.std(scores_dtc)))"
   ],
   "metadata": {
    "collapsed": false,
    "pycharm": {
     "name": "#%%\n",
     "is_executing": false
    }
   }
  },
  {
   "cell_type": "markdown",
   "source": [
    "SVM 모델의 중첩 교차 검증 성능(97.4%)이 결정 트리의 성능(93.4%)보다 좋은 것을 알 수 있다."
   ],
   "metadata": {
    "collapsed": false,
    "pycharm": {
     "name": "#%% md\n"
    }
   }
  }
 ],
 "metadata": {
  "kernelspec": {
   "display_name": "Python 3",
   "language": "python",
   "name": "python3"
  },
  "language_info": {
   "codemirror_mode": {
    "name": "ipython",
    "version": 2
   },
   "file_extension": ".py",
   "mimetype": "text/x-python",
   "name": "python",
   "nbconvert_exporter": "python",
   "pygments_lexer": "ipython2",
   "version": "2.7.6"
  },
  "pycharm": {
   "stem_cell": {
    "cell_type": "raw",
    "source": [],
    "metadata": {
     "collapsed": false
    }
   }
  }
 },
 "nbformat": 4,
 "nbformat_minor": 0
}